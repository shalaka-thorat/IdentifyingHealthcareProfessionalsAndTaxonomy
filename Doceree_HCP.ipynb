{
 "cells": [
  {
   "cell_type": "markdown",
   "id": "31c336fe",
   "metadata": {},
   "source": [
    "### Importing necessary libaries"
   ]
  },
  {
   "cell_type": "code",
   "execution_count": 1,
   "id": "f9301abd",
   "metadata": {},
   "outputs": [],
   "source": [
    "import pandas as pd\n",
    "import numpy as np\n",
    "import seaborn as sns"
   ]
  },
  {
   "cell_type": "markdown",
   "id": "628c380f",
   "metadata": {},
   "source": [
    "### Importing Train Data"
   ]
  },
  {
   "cell_type": "code",
   "execution_count": 2,
   "id": "3f662b77",
   "metadata": {
    "scrolled": false
   },
   "outputs": [
    {
     "data": {
      "text/html": [
       "<div>\n",
       "<style scoped>\n",
       "    .dataframe tbody tr th:only-of-type {\n",
       "        vertical-align: middle;\n",
       "    }\n",
       "\n",
       "    .dataframe tbody tr th {\n",
       "        vertical-align: top;\n",
       "    }\n",
       "\n",
       "    .dataframe thead th {\n",
       "        text-align: right;\n",
       "    }\n",
       "</style>\n",
       "<table border=\"1\" class=\"dataframe\">\n",
       "  <thead>\n",
       "    <tr style=\"text-align: right;\">\n",
       "      <th></th>\n",
       "      <th>ID</th>\n",
       "      <th>DEVICETYPE</th>\n",
       "      <th>PLATFORM_ID</th>\n",
       "      <th>BIDREQUESTIP</th>\n",
       "      <th>USERPLATFORMUID</th>\n",
       "      <th>USERCITY</th>\n",
       "      <th>USERZIPCODE</th>\n",
       "      <th>USERAGENT</th>\n",
       "      <th>PLATFORMTYPE</th>\n",
       "      <th>CHANNELTYPE</th>\n",
       "      <th>URL</th>\n",
       "      <th>KEYWORDS</th>\n",
       "      <th>TAXONOMY</th>\n",
       "      <th>IS_HCP</th>\n",
       "    </tr>\n",
       "  </thead>\n",
       "  <tbody>\n",
       "    <tr>\n",
       "      <th>0</th>\n",
       "      <td>1001</td>\n",
       "      <td>Desktop</td>\n",
       "      <td>2</td>\n",
       "      <td>170.173.0.22</td>\n",
       "      <td>6974dcaa-f932-480e-9fb5-c52e20e1393a</td>\n",
       "      <td>Portland</td>\n",
       "      <td>97206</td>\n",
       "      <td>Mozilla/5.0 (Windows NT 10.0; Win64; x64) Appl...</td>\n",
       "      <td>Online Medical Journal</td>\n",
       "      <td>Website</td>\n",
       "      <td>https://www.cancertherapyadvisor.com/home/canc...</td>\n",
       "      <td>General|Endocrine|False|Medicine|Surgery|Urolo...</td>\n",
       "      <td>NaN</td>\n",
       "      <td>0</td>\n",
       "    </tr>\n",
       "    <tr>\n",
       "      <th>1</th>\n",
       "      <td>1002</td>\n",
       "      <td>Desktop</td>\n",
       "      <td>2</td>\n",
       "      <td>65.216.253.25</td>\n",
       "      <td>c12f3f8f-8fcf-484a-90e1-1ac04db8cdcf</td>\n",
       "      <td>Arlington</td>\n",
       "      <td>22202</td>\n",
       "      <td>Mozilla/5.0 (Macintosh; Intel Mac OS X 10_15_7...</td>\n",
       "      <td>Online Medical Journal</td>\n",
       "      <td>Website</td>\n",
       "      <td>https://www.cancertherapyadvisor.com/home/deci...</td>\n",
       "      <td>Bone Marrow|Radiography|Chronic|Oncology|Psych...</td>\n",
       "      <td>NaN</td>\n",
       "      <td>0</td>\n",
       "    </tr>\n",
       "    <tr>\n",
       "      <th>2</th>\n",
       "      <td>1003</td>\n",
       "      <td>Desktop</td>\n",
       "      <td>2</td>\n",
       "      <td>66.232.79.22</td>\n",
       "      <td>a698de4b-e200-46dd-b5fb-40402175ae18</td>\n",
       "      <td>New Meadows</td>\n",
       "      <td>83654</td>\n",
       "      <td>Mozilla/5.0 (Macintosh; Intel Mac OS X 10_15_7...</td>\n",
       "      <td>Online Medical Journal</td>\n",
       "      <td>Website</td>\n",
       "      <td>https://www.cancertherapyadvisor.com/home/canc...</td>\n",
       "      <td>General|Endocrine|False|Medicine|Surgery|Urolo...</td>\n",
       "      <td>NaN</td>\n",
       "      <td>0</td>\n",
       "    </tr>\n",
       "    <tr>\n",
       "      <th>3</th>\n",
       "      <td>1004</td>\n",
       "      <td>Desktop</td>\n",
       "      <td>3</td>\n",
       "      <td>137.54.125.246</td>\n",
       "      <td>45967533-75c8-4fbd-a00c-e6ff20447aaa</td>\n",
       "      <td>NaN</td>\n",
       "      <td>229114624</td>\n",
       "      <td>Mozilla/5.0 (Windows NT 10.0; Win64; x64) Appl...</td>\n",
       "      <td>Online Medical Journal</td>\n",
       "      <td>Website</td>\n",
       "      <td>https://globalrph.com/medcalcs/warfarin-mainte...</td>\n",
       "      <td>Dental|Total|Clinical|Pharmacology|Physicians|...</td>\n",
       "      <td>2084P0800X</td>\n",
       "      <td>1</td>\n",
       "    </tr>\n",
       "    <tr>\n",
       "      <th>4</th>\n",
       "      <td>1005</td>\n",
       "      <td>Mobile</td>\n",
       "      <td>7</td>\n",
       "      <td>174.202.231.99</td>\n",
       "      <td>a17e25be-532d-4cf5-b916-9308c8c3961f</td>\n",
       "      <td>Houston</td>\n",
       "      <td>77008</td>\n",
       "      <td>Mozilla/5.0 (iPhone; CPU iPhone OS 16_1_1 like...</td>\n",
       "      <td>Online Medical Journal</td>\n",
       "      <td>Website</td>\n",
       "      <td>https://www.cureus.com/articles/58184-a-review...</td>\n",
       "      <td>Critical Care|Emergency Medicine|General Pract...</td>\n",
       "      <td>NaN</td>\n",
       "      <td>0</td>\n",
       "    </tr>\n",
       "  </tbody>\n",
       "</table>\n",
       "</div>"
      ],
      "text/plain": [
       "     ID DEVICETYPE  PLATFORM_ID    BIDREQUESTIP  \\\n",
       "0  1001    Desktop            2    170.173.0.22   \n",
       "1  1002    Desktop            2   65.216.253.25   \n",
       "2  1003    Desktop            2    66.232.79.22   \n",
       "3  1004    Desktop            3  137.54.125.246   \n",
       "4  1005     Mobile            7  174.202.231.99   \n",
       "\n",
       "                        USERPLATFORMUID     USERCITY  USERZIPCODE  \\\n",
       "0  6974dcaa-f932-480e-9fb5-c52e20e1393a     Portland        97206   \n",
       "1  c12f3f8f-8fcf-484a-90e1-1ac04db8cdcf    Arlington        22202   \n",
       "2  a698de4b-e200-46dd-b5fb-40402175ae18  New Meadows        83654   \n",
       "3  45967533-75c8-4fbd-a00c-e6ff20447aaa          NaN    229114624   \n",
       "4  a17e25be-532d-4cf5-b916-9308c8c3961f      Houston        77008   \n",
       "\n",
       "                                           USERAGENT            PLATFORMTYPE  \\\n",
       "0  Mozilla/5.0 (Windows NT 10.0; Win64; x64) Appl...  Online Medical Journal   \n",
       "1  Mozilla/5.0 (Macintosh; Intel Mac OS X 10_15_7...  Online Medical Journal   \n",
       "2  Mozilla/5.0 (Macintosh; Intel Mac OS X 10_15_7...  Online Medical Journal   \n",
       "3  Mozilla/5.0 (Windows NT 10.0; Win64; x64) Appl...  Online Medical Journal   \n",
       "4  Mozilla/5.0 (iPhone; CPU iPhone OS 16_1_1 like...  Online Medical Journal   \n",
       "\n",
       "  CHANNELTYPE                                                URL  \\\n",
       "0     Website  https://www.cancertherapyadvisor.com/home/canc...   \n",
       "1     Website  https://www.cancertherapyadvisor.com/home/deci...   \n",
       "2     Website  https://www.cancertherapyadvisor.com/home/canc...   \n",
       "3     Website  https://globalrph.com/medcalcs/warfarin-mainte...   \n",
       "4     Website  https://www.cureus.com/articles/58184-a-review...   \n",
       "\n",
       "                                            KEYWORDS    TAXONOMY  IS_HCP  \n",
       "0  General|Endocrine|False|Medicine|Surgery|Urolo...         NaN       0  \n",
       "1  Bone Marrow|Radiography|Chronic|Oncology|Psych...         NaN       0  \n",
       "2  General|Endocrine|False|Medicine|Surgery|Urolo...         NaN       0  \n",
       "3  Dental|Total|Clinical|Pharmacology|Physicians|...  2084P0800X       1  \n",
       "4  Critical Care|Emergency Medicine|General Pract...         NaN       0  "
      ]
     },
     "execution_count": 2,
     "metadata": {},
     "output_type": "execute_result"
    }
   ],
   "source": [
    "train_hcp = pd.read_csv(\"Doceree-HCP_Train.csv\", encoding=\"ISO-8859-1\", dtype={'USERZIPCODE':'Int64', 'IS_HCP':'Int64'})\n",
    "train_hcp.head()"
   ]
  },
  {
   "cell_type": "markdown",
   "id": "fe783a8e",
   "metadata": {},
   "source": [
    "### Data Pre-processing"
   ]
  },
  {
   "cell_type": "code",
   "execution_count": 3,
   "id": "e050e7b0",
   "metadata": {},
   "outputs": [
    {
     "name": "stdout",
     "output_type": "stream",
     "text": [
      "<class 'pandas.core.frame.DataFrame'>\n",
      "RangeIndex: 113937 entries, 0 to 113936\n",
      "Data columns (total 14 columns):\n",
      " #   Column           Non-Null Count   Dtype \n",
      "---  ------           --------------   ----- \n",
      " 0   ID               113937 non-null  int64 \n",
      " 1   DEVICETYPE       113937 non-null  object\n",
      " 2   PLATFORM_ID      113937 non-null  int64 \n",
      " 3   BIDREQUESTIP     113937 non-null  object\n",
      " 4   USERPLATFORMUID  113933 non-null  object\n",
      " 5   USERCITY         107578 non-null  object\n",
      " 6   USERZIPCODE      109345 non-null  Int64 \n",
      " 7   USERAGENT        113935 non-null  object\n",
      " 8   PLATFORMTYPE     113937 non-null  object\n",
      " 9   CHANNELTYPE      113937 non-null  object\n",
      " 10  URL              113937 non-null  object\n",
      " 11  KEYWORDS         113937 non-null  object\n",
      " 12  TAXONOMY         32313 non-null   object\n",
      " 13  IS_HCP           113936 non-null  Int64 \n",
      "dtypes: Int64(2), int64(2), object(10)\n",
      "memory usage: 12.4+ MB\n"
     ]
    }
   ],
   "source": [
    "# Getting Information about Train Data\n",
    "\n",
    "train_hcp.info()"
   ]
  },
  {
   "cell_type": "code",
   "execution_count": 4,
   "id": "f0d5c0b7",
   "metadata": {},
   "outputs": [
    {
     "data": {
      "text/plain": [
       "ID                     0\n",
       "DEVICETYPE             0\n",
       "PLATFORM_ID            0\n",
       "BIDREQUESTIP           0\n",
       "USERPLATFORMUID        4\n",
       "USERCITY            6359\n",
       "USERZIPCODE         4592\n",
       "USERAGENT              2\n",
       "PLATFORMTYPE           0\n",
       "CHANNELTYPE            0\n",
       "URL                    0\n",
       "KEYWORDS               0\n",
       "TAXONOMY           81624\n",
       "IS_HCP                 1\n",
       "dtype: int64"
      ]
     },
     "execution_count": 4,
     "metadata": {},
     "output_type": "execute_result"
    }
   ],
   "source": [
    "# Checking Null Values for each column of Train Data\n",
    "\n",
    "train_hcp.isnull().sum()"
   ]
  },
  {
   "cell_type": "code",
   "execution_count": 5,
   "id": "9d057380",
   "metadata": {
    "scrolled": true
   },
   "outputs": [
    {
     "data": {
      "text/html": [
       "<div>\n",
       "<style scoped>\n",
       "    .dataframe tbody tr th:only-of-type {\n",
       "        vertical-align: middle;\n",
       "    }\n",
       "\n",
       "    .dataframe tbody tr th {\n",
       "        vertical-align: top;\n",
       "    }\n",
       "\n",
       "    .dataframe thead th {\n",
       "        text-align: right;\n",
       "    }\n",
       "</style>\n",
       "<table border=\"1\" class=\"dataframe\">\n",
       "  <thead>\n",
       "    <tr style=\"text-align: right;\">\n",
       "      <th></th>\n",
       "      <th>ID</th>\n",
       "      <th>DEVICETYPE</th>\n",
       "      <th>PLATFORM_ID</th>\n",
       "      <th>BIDREQUESTIP</th>\n",
       "      <th>USERPLATFORMUID</th>\n",
       "      <th>USERCITY</th>\n",
       "      <th>USERZIPCODE</th>\n",
       "      <th>USERAGENT</th>\n",
       "      <th>PLATFORMTYPE</th>\n",
       "      <th>CHANNELTYPE</th>\n",
       "      <th>URL</th>\n",
       "      <th>KEYWORDS</th>\n",
       "      <th>TAXONOMY</th>\n",
       "      <th>IS_HCP</th>\n",
       "    </tr>\n",
       "  </thead>\n",
       "  <tbody>\n",
       "    <tr>\n",
       "      <th>73790</th>\n",
       "      <td>74791</td>\n",
       "      <td>Mobile</td>\n",
       "      <td>9</td>\n",
       "      <td>47.147.27.131</td>\n",
       "      <td>e180c16e-a393-48aa-ac14-7353faad95ee</td>\n",
       "      <td>Hacienda Heights</td>\n",
       "      <td>91745</td>\n",
       "      <td>Mozilla/5.0 (iPhone; CPU iPhone OS 15_6_1 like...</td>\n",
       "      <td>Online Medical Journal</td>\n",
       "      <td>Website</td>\n",
       "      <td>https://www.2minutemedicine.com/the-accord-tri...</td>\n",
       "      <td>Anemia|Delivery|Oncology|Medicine|Diabetes Mel...</td>\n",
       "      <td>NaN</td>\n",
       "      <td>&lt;NA&gt;</td>\n",
       "    </tr>\n",
       "  </tbody>\n",
       "</table>\n",
       "</div>"
      ],
      "text/plain": [
       "          ID DEVICETYPE  PLATFORM_ID   BIDREQUESTIP  \\\n",
       "73790  74791     Mobile            9  47.147.27.131   \n",
       "\n",
       "                            USERPLATFORMUID          USERCITY  USERZIPCODE  \\\n",
       "73790  e180c16e-a393-48aa-ac14-7353faad95ee  Hacienda Heights        91745   \n",
       "\n",
       "                                               USERAGENT  \\\n",
       "73790  Mozilla/5.0 (iPhone; CPU iPhone OS 15_6_1 like...   \n",
       "\n",
       "                 PLATFORMTYPE CHANNELTYPE  \\\n",
       "73790  Online Medical Journal     Website   \n",
       "\n",
       "                                                     URL  \\\n",
       "73790  https://www.2minutemedicine.com/the-accord-tri...   \n",
       "\n",
       "                                                KEYWORDS TAXONOMY  IS_HCP  \n",
       "73790  Anemia|Delivery|Oncology|Medicine|Diabetes Mel...      NaN    <NA>  "
      ]
     },
     "execution_count": 5,
     "metadata": {},
     "output_type": "execute_result"
    }
   ],
   "source": [
    "# Checking Null Value for Target Column IS_HCP\n",
    "\n",
    "train_hcp[train_hcp['IS_HCP'].isnull()]"
   ]
  },
  {
   "cell_type": "code",
   "execution_count": 6,
   "id": "b2aa1442",
   "metadata": {},
   "outputs": [],
   "source": [
    "# Removing the Found Row Having Null Target Value\n",
    "\n",
    "train_hcp.drop(index=73790, inplace=True)"
   ]
  },
  {
   "cell_type": "code",
   "execution_count": 7,
   "id": "4f46e971",
   "metadata": {
    "scrolled": true
   },
   "outputs": [
    {
     "data": {
      "text/html": [
       "<div>\n",
       "<style scoped>\n",
       "    .dataframe tbody tr th:only-of-type {\n",
       "        vertical-align: middle;\n",
       "    }\n",
       "\n",
       "    .dataframe tbody tr th {\n",
       "        vertical-align: top;\n",
       "    }\n",
       "\n",
       "    .dataframe thead th {\n",
       "        text-align: right;\n",
       "    }\n",
       "</style>\n",
       "<table border=\"1\" class=\"dataframe\">\n",
       "  <thead>\n",
       "    <tr style=\"text-align: right;\">\n",
       "      <th></th>\n",
       "      <th>ID</th>\n",
       "      <th>DEVICETYPE</th>\n",
       "      <th>PLATFORM_ID</th>\n",
       "      <th>BIDREQUESTIP</th>\n",
       "      <th>USERPLATFORMUID</th>\n",
       "      <th>USERCITY</th>\n",
       "      <th>USERZIPCODE</th>\n",
       "      <th>USERAGENT</th>\n",
       "      <th>PLATFORMTYPE</th>\n",
       "      <th>CHANNELTYPE</th>\n",
       "      <th>URL</th>\n",
       "      <th>KEYWORDS</th>\n",
       "      <th>TAXONOMY</th>\n",
       "      <th>IS_HCP</th>\n",
       "    </tr>\n",
       "  </thead>\n",
       "  <tbody>\n",
       "  </tbody>\n",
       "</table>\n",
       "</div>"
      ],
      "text/plain": [
       "Empty DataFrame\n",
       "Columns: [ID, DEVICETYPE, PLATFORM_ID, BIDREQUESTIP, USERPLATFORMUID, USERCITY, USERZIPCODE, USERAGENT, PLATFORMTYPE, CHANNELTYPE, URL, KEYWORDS, TAXONOMY, IS_HCP]\n",
       "Index: []"
      ]
     },
     "execution_count": 7,
     "metadata": {},
     "output_type": "execute_result"
    }
   ],
   "source": [
    "# Verifying Target Column Values are Not Null\n",
    "\n",
    "train_hcp[train_hcp['IS_HCP'].isnull()]"
   ]
  },
  {
   "cell_type": "markdown",
   "id": "9c481c62",
   "metadata": {},
   "source": [
    "### Data Analysis"
   ]
  },
  {
   "cell_type": "code",
   "execution_count": 8,
   "id": "4f415062",
   "metadata": {
    "scrolled": false
   },
   "outputs": [
    {
     "data": {
      "text/plain": [
       "<Axes: xlabel='IS_HCP', ylabel='count'>"
      ]
     },
     "execution_count": 8,
     "metadata": {},
     "output_type": "execute_result"
    },
    {
     "data": {
      "image/png": "[encoded data removed]",
      "text/plain": [
       "<Figure size 640x480 with 1 Axes>"
      ]
     },
     "metadata": {},
     "output_type": "display_data"
    }
   ],
   "source": [
    "# Getting Distribution of Target Variable IS_HCP\n",
    "\n",
    "sns.countplot(data=train_hcp, x='IS_HCP')"
   ]
  },
  {
   "cell_type": "markdown",
   "id": "6a989b58",
   "metadata": {},
   "source": [
    "Through the above count plot, we can see that number of healthcare professionals are lesser than the non-healthcare professionals, so our training data has a certain bias."
   ]
  },
  {
   "cell_type": "markdown",
   "id": "d4cc502a",
   "metadata": {},
   "source": [
    "### Feature Engineering and Feature Selection"
   ]
  },
  {
   "cell_type": "code",
   "execution_count": 9,
   "id": "ed9bbd25",
   "metadata": {},
   "outputs": [],
   "source": [
    "# Method to calculate CIDR Block based on the ip block range as input\n",
    "\n",
    "def Find_CIDR(ip_block):\n",
    "    if ip_block >= 0 and ip_block <= 127:\n",
    "        cidr_block = 0  # 'A' Block\n",
    "    elif ip_block >= 128 and ip_block <= 191:\n",
    "        cidr_block = 1  # 'B' BLock\n",
    "    elif ip_block >= 192 and ip_block <= 223:\n",
    "        cidr_block = 2  # 'C' Block\n",
    "    elif ip_block >=224 and ip_block <= 239:\n",
    "        cidr_block = 3  # 'D' Block\n",
    "    elif ip_block >= 240 and ip_block <= 255:\n",
    "        cidr_block = 4  # 'E' Block\n",
    "    else:\n",
    "        cidr_block = np.nan\n",
    "        \n",
    "    return cidr_block"
   ]
  },
  {
   "cell_type": "code",
   "execution_count": 10,
   "id": "afeb6b63",
   "metadata": {},
   "outputs": [],
   "source": [
    "# Method to categorize BIDREQUESTIP into CIDR Blocks\n",
    "\n",
    "def CIDR(hcp_data):\n",
    "    cidr_block = []\n",
    "    for bid_request_ip in hcp_data:\n",
    "        ip_block = int(bid_request_ip.split('.')[0])\n",
    "        cidr = Find_CIDR(ip_block)\n",
    "        cidr_block.append(cidr)\n",
    "    return cidr_block"
   ]
  },
  {
   "cell_type": "code",
   "execution_count": 11,
   "id": "9761d608",
   "metadata": {
    "scrolled": false
   },
   "outputs": [
    {
     "data": {
      "text/html": [
       "<div>\n",
       "<style scoped>\n",
       "    .dataframe tbody tr th:only-of-type {\n",
       "        vertical-align: middle;\n",
       "    }\n",
       "\n",
       "    .dataframe tbody tr th {\n",
       "        vertical-align: top;\n",
       "    }\n",
       "\n",
       "    .dataframe thead th {\n",
       "        text-align: right;\n",
       "    }\n",
       "</style>\n",
       "<table border=\"1\" class=\"dataframe\">\n",
       "  <thead>\n",
       "    <tr style=\"text-align: right;\">\n",
       "      <th></th>\n",
       "      <th>ID</th>\n",
       "      <th>DEVICETYPE</th>\n",
       "      <th>PLATFORM_ID</th>\n",
       "      <th>CIDRBLOCK</th>\n",
       "      <th>BIDREQUESTIP</th>\n",
       "      <th>USERPLATFORMUID</th>\n",
       "      <th>USERCITY</th>\n",
       "      <th>USERZIPCODE</th>\n",
       "      <th>USERAGENT</th>\n",
       "      <th>PLATFORMTYPE</th>\n",
       "      <th>CHANNELTYPE</th>\n",
       "      <th>URL</th>\n",
       "      <th>KEYWORDS</th>\n",
       "      <th>TAXONOMY</th>\n",
       "      <th>IS_HCP</th>\n",
       "    </tr>\n",
       "  </thead>\n",
       "  <tbody>\n",
       "    <tr>\n",
       "      <th>0</th>\n",
       "      <td>1001</td>\n",
       "      <td>Desktop</td>\n",
       "      <td>2</td>\n",
       "      <td>1</td>\n",
       "      <td>170.173.0.22</td>\n",
       "      <td>6974dcaa-f932-480e-9fb5-c52e20e1393a</td>\n",
       "      <td>Portland</td>\n",
       "      <td>97206</td>\n",
       "      <td>Mozilla/5.0 (Windows NT 10.0; Win64; x64) Appl...</td>\n",
       "      <td>Online Medical Journal</td>\n",
       "      <td>Website</td>\n",
       "      <td>https://www.cancertherapyadvisor.com/home/canc...</td>\n",
       "      <td>General|Endocrine|False|Medicine|Surgery|Urolo...</td>\n",
       "      <td>NaN</td>\n",
       "      <td>0</td>\n",
       "    </tr>\n",
       "    <tr>\n",
       "      <th>1</th>\n",
       "      <td>1002</td>\n",
       "      <td>Desktop</td>\n",
       "      <td>2</td>\n",
       "      <td>0</td>\n",
       "      <td>65.216.253.25</td>\n",
       "      <td>c12f3f8f-8fcf-484a-90e1-1ac04db8cdcf</td>\n",
       "      <td>Arlington</td>\n",
       "      <td>22202</td>\n",
       "      <td>Mozilla/5.0 (Macintosh; Intel Mac OS X 10_15_7...</td>\n",
       "      <td>Online Medical Journal</td>\n",
       "      <td>Website</td>\n",
       "      <td>https://www.cancertherapyadvisor.com/home/deci...</td>\n",
       "      <td>Bone Marrow|Radiography|Chronic|Oncology|Psych...</td>\n",
       "      <td>NaN</td>\n",
       "      <td>0</td>\n",
       "    </tr>\n",
       "    <tr>\n",
       "      <th>2</th>\n",
       "      <td>1003</td>\n",
       "      <td>Desktop</td>\n",
       "      <td>2</td>\n",
       "      <td>0</td>\n",
       "      <td>66.232.79.22</td>\n",
       "      <td>a698de4b-e200-46dd-b5fb-40402175ae18</td>\n",
       "      <td>New Meadows</td>\n",
       "      <td>83654</td>\n",
       "      <td>Mozilla/5.0 (Macintosh; Intel Mac OS X 10_15_7...</td>\n",
       "      <td>Online Medical Journal</td>\n",
       "      <td>Website</td>\n",
       "      <td>https://www.cancertherapyadvisor.com/home/canc...</td>\n",
       "      <td>General|Endocrine|False|Medicine|Surgery|Urolo...</td>\n",
       "      <td>NaN</td>\n",
       "      <td>0</td>\n",
       "    </tr>\n",
       "    <tr>\n",
       "      <th>3</th>\n",
       "      <td>1004</td>\n",
       "      <td>Desktop</td>\n",
       "      <td>3</td>\n",
       "      <td>1</td>\n",
       "      <td>137.54.125.246</td>\n",
       "      <td>45967533-75c8-4fbd-a00c-e6ff20447aaa</td>\n",
       "      <td>NaN</td>\n",
       "      <td>229114624</td>\n",
       "      <td>Mozilla/5.0 (Windows NT 10.0; Win64; x64) Appl...</td>\n",
       "      <td>Online Medical Journal</td>\n",
       "      <td>Website</td>\n",
       "      <td>https://globalrph.com/medcalcs/warfarin-mainte...</td>\n",
       "      <td>Dental|Total|Clinical|Pharmacology|Physicians|...</td>\n",
       "      <td>2084P0800X</td>\n",
       "      <td>1</td>\n",
       "    </tr>\n",
       "    <tr>\n",
       "      <th>4</th>\n",
       "      <td>1005</td>\n",
       "      <td>Mobile</td>\n",
       "      <td>7</td>\n",
       "      <td>1</td>\n",
       "      <td>174.202.231.99</td>\n",
       "      <td>a17e25be-532d-4cf5-b916-9308c8c3961f</td>\n",
       "      <td>Houston</td>\n",
       "      <td>77008</td>\n",
       "      <td>Mozilla/5.0 (iPhone; CPU iPhone OS 16_1_1 like...</td>\n",
       "      <td>Online Medical Journal</td>\n",
       "      <td>Website</td>\n",
       "      <td>https://www.cureus.com/articles/58184-a-review...</td>\n",
       "      <td>Critical Care|Emergency Medicine|General Pract...</td>\n",
       "      <td>NaN</td>\n",
       "      <td>0</td>\n",
       "    </tr>\n",
       "  </tbody>\n",
       "</table>\n",
       "</div>"
      ],
      "text/plain": [
       "     ID DEVICETYPE  PLATFORM_ID  CIDRBLOCK    BIDREQUESTIP  \\\n",
       "0  1001    Desktop            2          1    170.173.0.22   \n",
       "1  1002    Desktop            2          0   65.216.253.25   \n",
       "2  1003    Desktop            2          0    66.232.79.22   \n",
       "3  1004    Desktop            3          1  137.54.125.246   \n",
       "4  1005     Mobile            7          1  174.202.231.99   \n",
       "\n",
       "                        USERPLATFORMUID     USERCITY  USERZIPCODE  \\\n",
       "0  6974dcaa-f932-480e-9fb5-c52e20e1393a     Portland        97206   \n",
       "1  c12f3f8f-8fcf-484a-90e1-1ac04db8cdcf    Arlington        22202   \n",
       "2  a698de4b-e200-46dd-b5fb-40402175ae18  New Meadows        83654   \n",
       "3  45967533-75c8-4fbd-a00c-e6ff20447aaa          NaN    229114624   \n",
       "4  a17e25be-532d-4cf5-b916-9308c8c3961f      Houston        77008   \n",
       "\n",
       "                                           USERAGENT            PLATFORMTYPE  \\\n",
       "0  Mozilla/5.0 (Windows NT 10.0; Win64; x64) Appl...  Online Medical Journal   \n",
       "1  Mozilla/5.0 (Macintosh; Intel Mac OS X 10_15_7...  Online Medical Journal   \n",
       "2  Mozilla/5.0 (Macintosh; Intel Mac OS X 10_15_7...  Online Medical Journal   \n",
       "3  Mozilla/5.0 (Windows NT 10.0; Win64; x64) Appl...  Online Medical Journal   \n",
       "4  Mozilla/5.0 (iPhone; CPU iPhone OS 16_1_1 like...  Online Medical Journal   \n",
       "\n",
       "  CHANNELTYPE                                                URL  \\\n",
       "0     Website  https://www.cancertherapyadvisor.com/home/canc...   \n",
       "1     Website  https://www.cancertherapyadvisor.com/home/deci...   \n",
       "2     Website  https://www.cancertherapyadvisor.com/home/canc...   \n",
       "3     Website  https://globalrph.com/medcalcs/warfarin-mainte...   \n",
       "4     Website  https://www.cureus.com/articles/58184-a-review...   \n",
       "\n",
       "                                            KEYWORDS    TAXONOMY  IS_HCP  \n",
       "0  General|Endocrine|False|Medicine|Surgery|Urolo...         NaN       0  \n",
       "1  Bone Marrow|Radiography|Chronic|Oncology|Psych...         NaN       0  \n",
       "2  General|Endocrine|False|Medicine|Surgery|Urolo...         NaN       0  \n",
       "3  Dental|Total|Clinical|Pharmacology|Physicians|...  2084P0800X       1  \n",
       "4  Critical Care|Emergency Medicine|General Pract...         NaN       0  "
      ]
     },
     "execution_count": 11,
     "metadata": {},
     "output_type": "execute_result"
    }
   ],
   "source": [
    "# Assigning new column CIDRBLOCK that contains CIDR Block categories based on BIDREQUESTIP\n",
    "\n",
    "cidr_block = CIDR(train_hcp['BIDREQUESTIP'])\n",
    "train_hcp.insert(loc=3, column='CIDRBLOCK', value=cidr_block)\n",
    "\n",
    "train_hcp.head()"
   ]
  },
  {
   "cell_type": "markdown",
   "id": "fc45a4c9",
   "metadata": {},
   "source": [
    "We used values from BIDREQUESTIP column and converted the data into 5 CIDR Block categories inorder to drive more information, and reduce the number of categorical values from BIDREQUESTIP column."
   ]
  },
  {
   "cell_type": "code",
   "execution_count": 12,
   "id": "f137f466",
   "metadata": {},
   "outputs": [
    {
     "data": {
      "text/plain": [
       "0"
      ]
     },
     "execution_count": 12,
     "metadata": {},
     "output_type": "execute_result"
    }
   ],
   "source": [
    "# Verifying CIDRBLOCK does not contain Null Values\n",
    "\n",
    "train_hcp['CIDRBLOCK'].isnull().sum()"
   ]
  },
  {
   "cell_type": "code",
   "execution_count": 13,
   "id": "f9a64adf",
   "metadata": {
    "scrolled": false
   },
   "outputs": [
    {
     "data": {
      "text/plain": [
       "Desktop    78423\n",
       "Mobile     32064\n",
       "Tablet      3425\n",
       "Unknown       24\n",
       "Name: DEVICETYPE, dtype: int64"
      ]
     },
     "execution_count": 13,
     "metadata": {},
     "output_type": "execute_result"
    }
   ],
   "source": [
    "# Finding various categories for DEVICETYPE column\n",
    "\n",
    "train_hcp['DEVICETYPE'].value_counts()"
   ]
  },
  {
   "cell_type": "code",
   "execution_count": 14,
   "id": "ad693afe",
   "metadata": {},
   "outputs": [],
   "source": [
    "# Method to find Device Type through the User Agent String\n",
    "\n",
    "def findDevice(ua_string):\n",
    "    if 'smarttv' in ua_string:\n",
    "        device = 'Smart TV'\n",
    "    elif 'mobile' in ua_string or 'android' in ua_string or 'iphone' in ua_string:\n",
    "        device = 'Mobile'\n",
    "    elif 'ubuntu' in ua_string or 'windows' in ua_string or 'linux' in ua_string \\\n",
    "    or 'macintosh' in ua_string or 'cros'in ua_string:\n",
    "        device = 'Desktop'\n",
    "    elif 'tablet' in ua_string or 'ipad' in ua_string:\n",
    "        device = 'Tablet'\n",
    "    else:\n",
    "        device = 'Unknown'\n",
    "    return device"
   ]
  },
  {
   "cell_type": "code",
   "execution_count": 15,
   "id": "5b128a89",
   "metadata": {},
   "outputs": [],
   "source": [
    "# Method to caliberate Device Type through User Agent String, if DeviceType provided in data is Unknown\n",
    "\n",
    "def caliberateDevice(hcp_useragent, hcp_devicetype):\n",
    "    device_data = []\n",
    "    \n",
    "    for idx, dtype in enumerate(hcp_devicetype):\n",
    "        if dtype=='Unknown':\n",
    "            ua_string = hcp_useragent[idx]\n",
    "            if ua_string=='NaN':\n",
    "                device = 'Unknown'\n",
    "            else:\n",
    "                ua_string = ua_string.lower()\n",
    "                device = findDevice(ua_string)\n",
    "            device_data.append(device)\n",
    "        else:\n",
    "            device_data.append(dtype)\n",
    "            \n",
    "    return device_data"
   ]
  },
  {
   "cell_type": "code",
   "execution_count": 16,
   "id": "0b65054c",
   "metadata": {},
   "outputs": [
    {
     "data": {
      "text/html": [
       "<div>\n",
       "<style scoped>\n",
       "    .dataframe tbody tr th:only-of-type {\n",
       "        vertical-align: middle;\n",
       "    }\n",
       "\n",
       "    .dataframe tbody tr th {\n",
       "        vertical-align: top;\n",
       "    }\n",
       "\n",
       "    .dataframe thead th {\n",
       "        text-align: right;\n",
       "    }\n",
       "</style>\n",
       "<table border=\"1\" class=\"dataframe\">\n",
       "  <thead>\n",
       "    <tr style=\"text-align: right;\">\n",
       "      <th></th>\n",
       "      <th>ID</th>\n",
       "      <th>DEVICETYPE</th>\n",
       "      <th>PLATFORM_ID</th>\n",
       "      <th>CIDRBLOCK</th>\n",
       "      <th>BIDREQUESTIP</th>\n",
       "      <th>USERPLATFORMUID</th>\n",
       "      <th>USERCITY</th>\n",
       "      <th>USERZIPCODE</th>\n",
       "      <th>USERAGENT</th>\n",
       "      <th>PLATFORMTYPE</th>\n",
       "      <th>CHANNELTYPE</th>\n",
       "      <th>URL</th>\n",
       "      <th>KEYWORDS</th>\n",
       "      <th>TAXONOMY</th>\n",
       "      <th>IS_HCP</th>\n",
       "    </tr>\n",
       "  </thead>\n",
       "  <tbody>\n",
       "    <tr>\n",
       "      <th>32201</th>\n",
       "      <td>33202</td>\n",
       "      <td>Unknown</td>\n",
       "      <td>2</td>\n",
       "      <td>0</td>\n",
       "      <td>43.135.176.112</td>\n",
       "      <td>cf927c4e-fb59-4322-b495-c08e1a40d64d</td>\n",
       "      <td>Santa Clara</td>\n",
       "      <td>95052</td>\n",
       "      <td>NaN</td>\n",
       "      <td>Online Medical Journal</td>\n",
       "      <td>Website</td>\n",
       "      <td>https://www.clinicaladvisor.com/home/meeting-c...</td>\n",
       "      <td>influenza|chronic kidney disease|pain|nephrolo...</td>\n",
       "      <td>NaN</td>\n",
       "      <td>0</td>\n",
       "    </tr>\n",
       "    <tr>\n",
       "      <th>77681</th>\n",
       "      <td>78682</td>\n",
       "      <td>Unknown</td>\n",
       "      <td>2</td>\n",
       "      <td>0</td>\n",
       "      <td>43.153.60.225</td>\n",
       "      <td>ba0ce382-447d-4908-a4d8-e4da916ad645</td>\n",
       "      <td>NaN</td>\n",
       "      <td>&lt;NA&gt;</td>\n",
       "      <td>NaN</td>\n",
       "      <td>Online Medical Journal</td>\n",
       "      <td>Website</td>\n",
       "      <td>https://www.clinicaladvisor.com/home/web-exclu...</td>\n",
       "      <td>influenza|pain|nephrology|disease|hepatology|h...</td>\n",
       "      <td>NaN</td>\n",
       "      <td>0</td>\n",
       "    </tr>\n",
       "  </tbody>\n",
       "</table>\n",
       "</div>"
      ],
      "text/plain": [
       "          ID DEVICETYPE  PLATFORM_ID  CIDRBLOCK    BIDREQUESTIP  \\\n",
       "32201  33202    Unknown            2          0  43.135.176.112   \n",
       "77681  78682    Unknown            2          0   43.153.60.225   \n",
       "\n",
       "                            USERPLATFORMUID     USERCITY  USERZIPCODE  \\\n",
       "32201  cf927c4e-fb59-4322-b495-c08e1a40d64d  Santa Clara        95052   \n",
       "77681  ba0ce382-447d-4908-a4d8-e4da916ad645          NaN         <NA>   \n",
       "\n",
       "      USERAGENT            PLATFORMTYPE CHANNELTYPE  \\\n",
       "32201       NaN  Online Medical Journal     Website   \n",
       "77681       NaN  Online Medical Journal     Website   \n",
       "\n",
       "                                                     URL  \\\n",
       "32201  https://www.clinicaladvisor.com/home/meeting-c...   \n",
       "77681  https://www.clinicaladvisor.com/home/web-exclu...   \n",
       "\n",
       "                                                KEYWORDS TAXONOMY  IS_HCP  \n",
       "32201  influenza|chronic kidney disease|pain|nephrolo...      NaN       0  \n",
       "77681  influenza|pain|nephrology|disease|hepatology|h...      NaN       0  "
      ]
     },
     "execution_count": 16,
     "metadata": {},
     "output_type": "execute_result"
    }
   ],
   "source": [
    "# Checking Null Values for USERAGENT column\n",
    "\n",
    "train_hcp[train_hcp['USERAGENT'].isnull()]"
   ]
  },
  {
   "cell_type": "code",
   "execution_count": 17,
   "id": "2df877e3",
   "metadata": {},
   "outputs": [
    {
     "data": {
      "text/html": [
       "<div>\n",
       "<style scoped>\n",
       "    .dataframe tbody tr th:only-of-type {\n",
       "        vertical-align: middle;\n",
       "    }\n",
       "\n",
       "    .dataframe tbody tr th {\n",
       "        vertical-align: top;\n",
       "    }\n",
       "\n",
       "    .dataframe thead th {\n",
       "        text-align: right;\n",
       "    }\n",
       "</style>\n",
       "<table border=\"1\" class=\"dataframe\">\n",
       "  <thead>\n",
       "    <tr style=\"text-align: right;\">\n",
       "      <th></th>\n",
       "      <th>ID</th>\n",
       "      <th>DEVICETYPE</th>\n",
       "      <th>PLATFORM_ID</th>\n",
       "      <th>CIDRBLOCK</th>\n",
       "      <th>BIDREQUESTIP</th>\n",
       "      <th>USERPLATFORMUID</th>\n",
       "      <th>USERCITY</th>\n",
       "      <th>USERZIPCODE</th>\n",
       "      <th>USERAGENT</th>\n",
       "      <th>PLATFORMTYPE</th>\n",
       "      <th>CHANNELTYPE</th>\n",
       "      <th>URL</th>\n",
       "      <th>KEYWORDS</th>\n",
       "      <th>TAXONOMY</th>\n",
       "      <th>IS_HCP</th>\n",
       "    </tr>\n",
       "  </thead>\n",
       "  <tbody>\n",
       "  </tbody>\n",
       "</table>\n",
       "</div>"
      ],
      "text/plain": [
       "Empty DataFrame\n",
       "Columns: [ID, DEVICETYPE, PLATFORM_ID, CIDRBLOCK, BIDREQUESTIP, USERPLATFORMUID, USERCITY, USERZIPCODE, USERAGENT, PLATFORMTYPE, CHANNELTYPE, URL, KEYWORDS, TAXONOMY, IS_HCP]\n",
       "Index: []"
      ]
     },
     "execution_count": 17,
     "metadata": {},
     "output_type": "execute_result"
    }
   ],
   "source": [
    "# Replacing Null Values with 'NaN' value for USERAGENT column\n",
    "\n",
    "train_hcp.at[32201, 'USERAGENT'] = 'NaN'\n",
    "train_hcp.at[77681, 'USERAGENT'] = 'NaN'\n",
    "\n",
    "train_hcp[train_hcp['USERAGENT'].isnull()]"
   ]
  },
  {
   "cell_type": "code",
   "execution_count": 18,
   "id": "43f37ae1",
   "metadata": {
    "scrolled": false
   },
   "outputs": [
    {
     "data": {
      "text/html": [
       "<div>\n",
       "<style scoped>\n",
       "    .dataframe tbody tr th:only-of-type {\n",
       "        vertical-align: middle;\n",
       "    }\n",
       "\n",
       "    .dataframe tbody tr th {\n",
       "        vertical-align: top;\n",
       "    }\n",
       "\n",
       "    .dataframe thead th {\n",
       "        text-align: right;\n",
       "    }\n",
       "</style>\n",
       "<table border=\"1\" class=\"dataframe\">\n",
       "  <thead>\n",
       "    <tr style=\"text-align: right;\">\n",
       "      <th></th>\n",
       "      <th>ID</th>\n",
       "      <th>DEVICE</th>\n",
       "      <th>DEVICETYPE</th>\n",
       "      <th>PLATFORM_ID</th>\n",
       "      <th>CIDRBLOCK</th>\n",
       "      <th>BIDREQUESTIP</th>\n",
       "      <th>USERPLATFORMUID</th>\n",
       "      <th>USERCITY</th>\n",
       "      <th>USERZIPCODE</th>\n",
       "      <th>USERAGENT</th>\n",
       "      <th>PLATFORMTYPE</th>\n",
       "      <th>CHANNELTYPE</th>\n",
       "      <th>URL</th>\n",
       "      <th>KEYWORDS</th>\n",
       "      <th>TAXONOMY</th>\n",
       "      <th>IS_HCP</th>\n",
       "    </tr>\n",
       "  </thead>\n",
       "  <tbody>\n",
       "    <tr>\n",
       "      <th>0</th>\n",
       "      <td>1001</td>\n",
       "      <td>Desktop</td>\n",
       "      <td>Desktop</td>\n",
       "      <td>2</td>\n",
       "      <td>1</td>\n",
       "      <td>170.173.0.22</td>\n",
       "      <td>6974dcaa-f932-480e-9fb5-c52e20e1393a</td>\n",
       "      <td>Portland</td>\n",
       "      <td>97206</td>\n",
       "      <td>Mozilla/5.0 (Windows NT 10.0; Win64; x64) Appl...</td>\n",
       "      <td>Online Medical Journal</td>\n",
       "      <td>Website</td>\n",
       "      <td>https://www.cancertherapyadvisor.com/home/canc...</td>\n",
       "      <td>General|Endocrine|False|Medicine|Surgery|Urolo...</td>\n",
       "      <td>NaN</td>\n",
       "      <td>0</td>\n",
       "    </tr>\n",
       "    <tr>\n",
       "      <th>1</th>\n",
       "      <td>1002</td>\n",
       "      <td>Desktop</td>\n",
       "      <td>Desktop</td>\n",
       "      <td>2</td>\n",
       "      <td>0</td>\n",
       "      <td>65.216.253.25</td>\n",
       "      <td>c12f3f8f-8fcf-484a-90e1-1ac04db8cdcf</td>\n",
       "      <td>Arlington</td>\n",
       "      <td>22202</td>\n",
       "      <td>Mozilla/5.0 (Macintosh; Intel Mac OS X 10_15_7...</td>\n",
       "      <td>Online Medical Journal</td>\n",
       "      <td>Website</td>\n",
       "      <td>https://www.cancertherapyadvisor.com/home/deci...</td>\n",
       "      <td>Bone Marrow|Radiography|Chronic|Oncology|Psych...</td>\n",
       "      <td>NaN</td>\n",
       "      <td>0</td>\n",
       "    </tr>\n",
       "    <tr>\n",
       "      <th>2</th>\n",
       "      <td>1003</td>\n",
       "      <td>Desktop</td>\n",
       "      <td>Desktop</td>\n",
       "      <td>2</td>\n",
       "      <td>0</td>\n",
       "      <td>66.232.79.22</td>\n",
       "      <td>a698de4b-e200-46dd-b5fb-40402175ae18</td>\n",
       "      <td>New Meadows</td>\n",
       "      <td>83654</td>\n",
       "      <td>Mozilla/5.0 (Macintosh; Intel Mac OS X 10_15_7...</td>\n",
       "      <td>Online Medical Journal</td>\n",
       "      <td>Website</td>\n",
       "      <td>https://www.cancertherapyadvisor.com/home/canc...</td>\n",
       "      <td>General|Endocrine|False|Medicine|Surgery|Urolo...</td>\n",
       "      <td>NaN</td>\n",
       "      <td>0</td>\n",
       "    </tr>\n",
       "    <tr>\n",
       "      <th>3</th>\n",
       "      <td>1004</td>\n",
       "      <td>Desktop</td>\n",
       "      <td>Desktop</td>\n",
       "      <td>3</td>\n",
       "      <td>1</td>\n",
       "      <td>137.54.125.246</td>\n",
       "      <td>45967533-75c8-4fbd-a00c-e6ff20447aaa</td>\n",
       "      <td>NaN</td>\n",
       "      <td>229114624</td>\n",
       "      <td>Mozilla/5.0 (Windows NT 10.0; Win64; x64) Appl...</td>\n",
       "      <td>Online Medical Journal</td>\n",
       "      <td>Website</td>\n",
       "      <td>https://globalrph.com/medcalcs/warfarin-mainte...</td>\n",
       "      <td>Dental|Total|Clinical|Pharmacology|Physicians|...</td>\n",
       "      <td>2084P0800X</td>\n",
       "      <td>1</td>\n",
       "    </tr>\n",
       "    <tr>\n",
       "      <th>4</th>\n",
       "      <td>1005</td>\n",
       "      <td>Mobile</td>\n",
       "      <td>Mobile</td>\n",
       "      <td>7</td>\n",
       "      <td>1</td>\n",
       "      <td>174.202.231.99</td>\n",
       "      <td>a17e25be-532d-4cf5-b916-9308c8c3961f</td>\n",
       "      <td>Houston</td>\n",
       "      <td>77008</td>\n",
       "      <td>Mozilla/5.0 (iPhone; CPU iPhone OS 16_1_1 like...</td>\n",
       "      <td>Online Medical Journal</td>\n",
       "      <td>Website</td>\n",
       "      <td>https://www.cureus.com/articles/58184-a-review...</td>\n",
       "      <td>Critical Care|Emergency Medicine|General Pract...</td>\n",
       "      <td>NaN</td>\n",
       "      <td>0</td>\n",
       "    </tr>\n",
       "  </tbody>\n",
       "</table>\n",
       "</div>"
      ],
      "text/plain": [
       "     ID   DEVICE DEVICETYPE  PLATFORM_ID  CIDRBLOCK    BIDREQUESTIP  \\\n",
       "0  1001  Desktop    Desktop            2          1    170.173.0.22   \n",
       "1  1002  Desktop    Desktop            2          0   65.216.253.25   \n",
       "2  1003  Desktop    Desktop            2          0    66.232.79.22   \n",
       "3  1004  Desktop    Desktop            3          1  137.54.125.246   \n",
       "4  1005   Mobile     Mobile            7          1  174.202.231.99   \n",
       "\n",
       "                        USERPLATFORMUID     USERCITY  USERZIPCODE  \\\n",
       "0  6974dcaa-f932-480e-9fb5-c52e20e1393a     Portland        97206   \n",
       "1  c12f3f8f-8fcf-484a-90e1-1ac04db8cdcf    Arlington        22202   \n",
       "2  a698de4b-e200-46dd-b5fb-40402175ae18  New Meadows        83654   \n",
       "3  45967533-75c8-4fbd-a00c-e6ff20447aaa          NaN    229114624   \n",
       "4  a17e25be-532d-4cf5-b916-9308c8c3961f      Houston        77008   \n",
       "\n",
       "                                           USERAGENT            PLATFORMTYPE  \\\n",
       "0  Mozilla/5.0 (Windows NT 10.0; Win64; x64) Appl...  Online Medical Journal   \n",
       "1  Mozilla/5.0 (Macintosh; Intel Mac OS X 10_15_7...  Online Medical Journal   \n",
       "2  Mozilla/5.0 (Macintosh; Intel Mac OS X 10_15_7...  Online Medical Journal   \n",
       "3  Mozilla/5.0 (Windows NT 10.0; Win64; x64) Appl...  Online Medical Journal   \n",
       "4  Mozilla/5.0 (iPhone; CPU iPhone OS 16_1_1 like...  Online Medical Journal   \n",
       "\n",
       "  CHANNELTYPE                                                URL  \\\n",
       "0     Website  https://www.cancertherapyadvisor.com/home/canc...   \n",
       "1     Website  https://www.cancertherapyadvisor.com/home/deci...   \n",
       "2     Website  https://www.cancertherapyadvisor.com/home/canc...   \n",
       "3     Website  https://globalrph.com/medcalcs/warfarin-mainte...   \n",
       "4     Website  https://www.cureus.com/articles/58184-a-review...   \n",
       "\n",
       "                                            KEYWORDS    TAXONOMY  IS_HCP  \n",
       "0  General|Endocrine|False|Medicine|Surgery|Urolo...         NaN       0  \n",
       "1  Bone Marrow|Radiography|Chronic|Oncology|Psych...         NaN       0  \n",
       "2  General|Endocrine|False|Medicine|Surgery|Urolo...         NaN       0  \n",
       "3  Dental|Total|Clinical|Pharmacology|Physicians|...  2084P0800X       1  \n",
       "4  Critical Care|Emergency Medicine|General Pract...         NaN       0  "
      ]
     },
     "execution_count": 18,
     "metadata": {},
     "output_type": "execute_result"
    }
   ],
   "source": [
    "# Finding device type for entries where device type is provided as 'Unknown'\n",
    "\n",
    "device_values = caliberateDevice(train_hcp['USERAGENT'], train_hcp['DEVICETYPE'])\n",
    "train_hcp.insert(loc=1, column='DEVICE', value=device_values)\n",
    "\n",
    "train_hcp.head()"
   ]
  },
  {
   "cell_type": "markdown",
   "id": "38f19fa8",
   "metadata": {},
   "source": [
    "Inorder to reduce the Unknown Device types, we caliberated Device Types based on User Agent String from Training Data"
   ]
  },
  {
   "cell_type": "code",
   "execution_count": 19,
   "id": "151eaa8e",
   "metadata": {},
   "outputs": [
    {
     "data": {
      "text/plain": [
       "Desktop     78430\n",
       "Mobile      32066\n",
       "Tablet       3425\n",
       "Smart TV       11\n",
       "Unknown         4\n",
       "Name: DEVICE, dtype: int64"
      ]
     },
     "execution_count": 19,
     "metadata": {},
     "output_type": "execute_result"
    }
   ],
   "source": [
    "# Getting unique values for newly created column DEVICE\n",
    "\n",
    "train_hcp['DEVICE'].value_counts()"
   ]
  },
  {
   "cell_type": "code",
   "execution_count": 20,
   "id": "2091227b",
   "metadata": {
    "scrolled": false
   },
   "outputs": [
    {
     "data": {
      "text/html": [
       "<div>\n",
       "<style scoped>\n",
       "    .dataframe tbody tr th:only-of-type {\n",
       "        vertical-align: middle;\n",
       "    }\n",
       "\n",
       "    .dataframe tbody tr th {\n",
       "        vertical-align: top;\n",
       "    }\n",
       "\n",
       "    .dataframe thead th {\n",
       "        text-align: right;\n",
       "    }\n",
       "</style>\n",
       "<table border=\"1\" class=\"dataframe\">\n",
       "  <thead>\n",
       "    <tr style=\"text-align: right;\">\n",
       "      <th></th>\n",
       "      <th>ID</th>\n",
       "      <th>DEVICE</th>\n",
       "      <th>DEVICETYPE</th>\n",
       "      <th>PLATFORM_ID</th>\n",
       "      <th>CIDRBLOCK</th>\n",
       "      <th>BIDREQUESTIP</th>\n",
       "      <th>USERPLATFORMUID</th>\n",
       "      <th>USERCITY</th>\n",
       "      <th>USERZIPCODE</th>\n",
       "      <th>USERAGENT</th>\n",
       "      <th>PLATFORMTYPE</th>\n",
       "      <th>CHANNELTYPE</th>\n",
       "      <th>URL</th>\n",
       "      <th>KEYWORDS</th>\n",
       "      <th>TAXONOMY</th>\n",
       "      <th>IS_HCP</th>\n",
       "    </tr>\n",
       "  </thead>\n",
       "  <tbody>\n",
       "    <tr>\n",
       "      <th>25061</th>\n",
       "      <td>26062</td>\n",
       "      <td>Unknown</td>\n",
       "      <td>Unknown</td>\n",
       "      <td>7</td>\n",
       "      <td>0</td>\n",
       "      <td>3.226.105.93</td>\n",
       "      <td>bc8a3bab-70c6-46f0-88c1-4ca470a70c53</td>\n",
       "      <td>Ashburn</td>\n",
       "      <td>20149</td>\n",
       "      <td>Google-Calendar-Importer</td>\n",
       "      <td>Online Medical Journal</td>\n",
       "      <td>Website</td>\n",
       "      <td>https://www.cureus.com/users/342506-salman-kha...</td>\n",
       "      <td>small|covid|nephrology|radiology|preventive me...</td>\n",
       "      <td>NaN</td>\n",
       "      <td>0</td>\n",
       "    </tr>\n",
       "    <tr>\n",
       "      <th>32201</th>\n",
       "      <td>33202</td>\n",
       "      <td>Unknown</td>\n",
       "      <td>Unknown</td>\n",
       "      <td>2</td>\n",
       "      <td>0</td>\n",
       "      <td>43.135.176.112</td>\n",
       "      <td>cf927c4e-fb59-4322-b495-c08e1a40d64d</td>\n",
       "      <td>Santa Clara</td>\n",
       "      <td>95052</td>\n",
       "      <td>NaN</td>\n",
       "      <td>Online Medical Journal</td>\n",
       "      <td>Website</td>\n",
       "      <td>https://www.clinicaladvisor.com/home/meeting-c...</td>\n",
       "      <td>influenza|chronic kidney disease|pain|nephrolo...</td>\n",
       "      <td>NaN</td>\n",
       "      <td>0</td>\n",
       "    </tr>\n",
       "    <tr>\n",
       "      <th>60377</th>\n",
       "      <td>61378</td>\n",
       "      <td>Unknown</td>\n",
       "      <td>Unknown</td>\n",
       "      <td>5</td>\n",
       "      <td>0</td>\n",
       "      <td>66.249.66.73</td>\n",
       "      <td>7e9af839-b5af-4df3-9ba0-24dbb8590056</td>\n",
       "      <td>NaN</td>\n",
       "      <td>&lt;NA&gt;</td>\n",
       "      <td>Mediapartners-Google</td>\n",
       "      <td>Online Medical Journal</td>\n",
       "      <td>Website</td>\n",
       "      <td>https://fpnotebook.com/CV/Exam/CcsSymptmSvrtyI...</td>\n",
       "      <td>the|general|pain|fatigue|dyspnea|cardiac|</td>\n",
       "      <td>NaN</td>\n",
       "      <td>0</td>\n",
       "    </tr>\n",
       "    <tr>\n",
       "      <th>68392</th>\n",
       "      <td>69393</td>\n",
       "      <td>Unknown</td>\n",
       "      <td>Unknown</td>\n",
       "      <td>2</td>\n",
       "      <td>0</td>\n",
       "      <td>64.71.131.249</td>\n",
       "      <td>e817c670-759e-4230-add1-4954b987781b</td>\n",
       "      <td>Mountain Ranch</td>\n",
       "      <td>95246</td>\n",
       "      <td>Mozilla/5.0 (compatible; ev-crawler/1.0; +http...</td>\n",
       "      <td>Online Medical Journal</td>\n",
       "      <td>Website</td>\n",
       "      <td>https://www.gastroenterologyadvisor.com/</td>\n",
       "      <td>Transplantation|Technology|Chronic|Neoplasms|U...</td>\n",
       "      <td>NaN</td>\n",
       "      <td>0</td>\n",
       "    </tr>\n",
       "  </tbody>\n",
       "</table>\n",
       "</div>"
      ],
      "text/plain": [
       "          ID   DEVICE DEVICETYPE  PLATFORM_ID  CIDRBLOCK    BIDREQUESTIP  \\\n",
       "25061  26062  Unknown    Unknown            7          0    3.226.105.93   \n",
       "32201  33202  Unknown    Unknown            2          0  43.135.176.112   \n",
       "60377  61378  Unknown    Unknown            5          0    66.249.66.73   \n",
       "68392  69393  Unknown    Unknown            2          0   64.71.131.249   \n",
       "\n",
       "                            USERPLATFORMUID        USERCITY  USERZIPCODE  \\\n",
       "25061  bc8a3bab-70c6-46f0-88c1-4ca470a70c53         Ashburn        20149   \n",
       "32201  cf927c4e-fb59-4322-b495-c08e1a40d64d     Santa Clara        95052   \n",
       "60377  7e9af839-b5af-4df3-9ba0-24dbb8590056             NaN         <NA>   \n",
       "68392  e817c670-759e-4230-add1-4954b987781b  Mountain Ranch        95246   \n",
       "\n",
       "                                               USERAGENT  \\\n",
       "25061                           Google-Calendar-Importer   \n",
       "32201                                                NaN   \n",
       "60377                               Mediapartners-Google   \n",
       "68392  Mozilla/5.0 (compatible; ev-crawler/1.0; +http...   \n",
       "\n",
       "                 PLATFORMTYPE CHANNELTYPE  \\\n",
       "25061  Online Medical Journal     Website   \n",
       "32201  Online Medical Journal     Website   \n",
       "60377  Online Medical Journal     Website   \n",
       "68392  Online Medical Journal     Website   \n",
       "\n",
       "                                                     URL  \\\n",
       "25061  https://www.cureus.com/users/342506-salman-kha...   \n",
       "32201  https://www.clinicaladvisor.com/home/meeting-c...   \n",
       "60377  https://fpnotebook.com/CV/Exam/CcsSymptmSvrtyI...   \n",
       "68392           https://www.gastroenterologyadvisor.com/   \n",
       "\n",
       "                                                KEYWORDS TAXONOMY  IS_HCP  \n",
       "25061  small|covid|nephrology|radiology|preventive me...      NaN       0  \n",
       "32201  influenza|chronic kidney disease|pain|nephrolo...      NaN       0  \n",
       "60377          the|general|pain|fatigue|dyspnea|cardiac|      NaN       0  \n",
       "68392  Transplantation|Technology|Chronic|Neoplasms|U...      NaN       0  "
      ]
     },
     "execution_count": 20,
     "metadata": {},
     "output_type": "execute_result"
    }
   ],
   "source": [
    "# Checking entries where Device is caliberated as Unknown\n",
    "\n",
    "train_hcp[train_hcp['DEVICE']=='Unknown']"
   ]
  },
  {
   "cell_type": "markdown",
   "id": "b6a18882",
   "metadata": {},
   "source": [
    "We keep these Unknown device types as they are, because there is no further processing that can be done."
   ]
  },
  {
   "cell_type": "code",
   "execution_count": 21,
   "id": "2e51c676",
   "metadata": {},
   "outputs": [
    {
     "data": {
      "text/html": [
       "<div>\n",
       "<style scoped>\n",
       "    .dataframe tbody tr th:only-of-type {\n",
       "        vertical-align: middle;\n",
       "    }\n",
       "\n",
       "    .dataframe tbody tr th {\n",
       "        vertical-align: top;\n",
       "    }\n",
       "\n",
       "    .dataframe thead th {\n",
       "        text-align: right;\n",
       "    }\n",
       "</style>\n",
       "<table border=\"1\" class=\"dataframe\">\n",
       "  <thead>\n",
       "    <tr style=\"text-align: right;\">\n",
       "      <th></th>\n",
       "      <th>DEVICE</th>\n",
       "      <th>PLATFORM_ID</th>\n",
       "      <th>CIDRBLOCK</th>\n",
       "      <th>PLATFORMTYPE</th>\n",
       "      <th>URL</th>\n",
       "      <th>KEYWORDS</th>\n",
       "      <th>IS_HCP</th>\n",
       "    </tr>\n",
       "  </thead>\n",
       "  <tbody>\n",
       "    <tr>\n",
       "      <th>0</th>\n",
       "      <td>Desktop</td>\n",
       "      <td>2</td>\n",
       "      <td>1</td>\n",
       "      <td>Online Medical Journal</td>\n",
       "      <td>https://www.cancertherapyadvisor.com/home/canc...</td>\n",
       "      <td>General|Endocrine|False|Medicine|Surgery|Urolo...</td>\n",
       "      <td>0</td>\n",
       "    </tr>\n",
       "    <tr>\n",
       "      <th>1</th>\n",
       "      <td>Desktop</td>\n",
       "      <td>2</td>\n",
       "      <td>0</td>\n",
       "      <td>Online Medical Journal</td>\n",
       "      <td>https://www.cancertherapyadvisor.com/home/deci...</td>\n",
       "      <td>Bone Marrow|Radiography|Chronic|Oncology|Psych...</td>\n",
       "      <td>0</td>\n",
       "    </tr>\n",
       "    <tr>\n",
       "      <th>2</th>\n",
       "      <td>Desktop</td>\n",
       "      <td>2</td>\n",
       "      <td>0</td>\n",
       "      <td>Online Medical Journal</td>\n",
       "      <td>https://www.cancertherapyadvisor.com/home/canc...</td>\n",
       "      <td>General|Endocrine|False|Medicine|Surgery|Urolo...</td>\n",
       "      <td>0</td>\n",
       "    </tr>\n",
       "    <tr>\n",
       "      <th>3</th>\n",
       "      <td>Desktop</td>\n",
       "      <td>3</td>\n",
       "      <td>1</td>\n",
       "      <td>Online Medical Journal</td>\n",
       "      <td>https://globalrph.com/medcalcs/warfarin-mainte...</td>\n",
       "      <td>Dental|Total|Clinical|Pharmacology|Physicians|...</td>\n",
       "      <td>1</td>\n",
       "    </tr>\n",
       "    <tr>\n",
       "      <th>4</th>\n",
       "      <td>Mobile</td>\n",
       "      <td>7</td>\n",
       "      <td>1</td>\n",
       "      <td>Online Medical Journal</td>\n",
       "      <td>https://www.cureus.com/articles/58184-a-review...</td>\n",
       "      <td>Critical Care|Emergency Medicine|General Pract...</td>\n",
       "      <td>0</td>\n",
       "    </tr>\n",
       "  </tbody>\n",
       "</table>\n",
       "</div>"
      ],
      "text/plain": [
       "    DEVICE  PLATFORM_ID  CIDRBLOCK            PLATFORMTYPE  \\\n",
       "0  Desktop            2          1  Online Medical Journal   \n",
       "1  Desktop            2          0  Online Medical Journal   \n",
       "2  Desktop            2          0  Online Medical Journal   \n",
       "3  Desktop            3          1  Online Medical Journal   \n",
       "4   Mobile            7          1  Online Medical Journal   \n",
       "\n",
       "                                                 URL  \\\n",
       "0  https://www.cancertherapyadvisor.com/home/canc...   \n",
       "1  https://www.cancertherapyadvisor.com/home/deci...   \n",
       "2  https://www.cancertherapyadvisor.com/home/canc...   \n",
       "3  https://globalrph.com/medcalcs/warfarin-mainte...   \n",
       "4  https://www.cureus.com/articles/58184-a-review...   \n",
       "\n",
       "                                            KEYWORDS  IS_HCP  \n",
       "0  General|Endocrine|False|Medicine|Surgery|Urolo...       0  \n",
       "1  Bone Marrow|Radiography|Chronic|Oncology|Psych...       0  \n",
       "2  General|Endocrine|False|Medicine|Surgery|Urolo...       0  \n",
       "3  Dental|Total|Clinical|Pharmacology|Physicians|...       1  \n",
       "4  Critical Care|Emergency Medicine|General Pract...       0  "
      ]
     },
     "execution_count": 21,
     "metadata": {},
     "output_type": "execute_result"
    }
   ],
   "source": [
    "# Dropping Redudant Columns from Train Data\n",
    "\n",
    "train_hcp.drop(['ID', 'DEVICETYPE', 'BIDREQUESTIP', 'USERPLATFORMUID', 'USERCITY', 'USERZIPCODE', 'USERAGENT', 'CHANNELTYPE', 'TAXONOMY'], axis=1, inplace=True)\n",
    "train_hcp.head()"
   ]
  },
  {
   "cell_type": "code",
   "execution_count": 22,
   "id": "05d359e1",
   "metadata": {},
   "outputs": [],
   "source": [
    "# Method to calculate url_domain given url as input\n",
    "\n",
    "def FindDomain(hcp_data):\n",
    "    domains=[]\n",
    "    for url in hcp_data:\n",
    "        url_domain = url\n",
    "        if \".org\" in url:\n",
    "            url_domain = url.split('.org')[0]\n",
    "            url_domain += '.org/'\n",
    "        else:\n",
    "            url_domain = url.split('.com')[0]\n",
    "            url_domain += '.com/'\n",
    "        domains.append(url_domain)\n",
    "    return domains"
   ]
  },
  {
   "cell_type": "code",
   "execution_count": 23,
   "id": "ca3e8249",
   "metadata": {},
   "outputs": [],
   "source": [
    "# Assigning new column URLDOMAIN based on values from URL column\n",
    "\n",
    "url_domain = FindDomain(train_hcp['URL'])\n",
    "train_hcp.insert(loc=5, column='URLDOMAIN', value=url_domain)"
   ]
  },
  {
   "cell_type": "code",
   "execution_count": 24,
   "id": "77ec89b0",
   "metadata": {},
   "outputs": [
    {
     "data": {
      "text/plain": [
       "https://www.cureus.com/                      20913\n",
       "https://www.clinicaladvisor.com/             15529\n",
       "https://www.cancertherapyadvisor.com/        10381\n",
       "https://www.empr.com/                         9182\n",
       "https://www.rheumatologyadvisor.com/          6786\n",
       "https://www.renalandurologynews.com/          6480\n",
       "https://www.gastroenterologyadvisor.com/      5925\n",
       "https://www.2minutemedicine.com/              3890\n",
       "https://www.dermatologyadvisor.com/           3705\n",
       "https://www.neurologyadvisor.com/             3579\n",
       "https://fpnotebook.com/                       3214\n",
       "https://www.goodrx.com/                       2978\n",
       "https://www.psychiatryadvisor.com/            2923\n",
       "https://www.pulmonologyadvisor.com/           2880\n",
       "https://www.clinicalpainadvisor.com/          2751\n",
       "https://www.medicalbag.com/                   2332\n",
       "https://www.rarediseaseadvisor.com/           1535\n",
       "https://www.thecardiologyadvisor.com/         1380\n",
       "https://www.infectiousdiseaseadvisor.com/     1124\n",
       "https://www.grantsformedical.com/             1037\n",
       "https://globalrph.com/                        1023\n",
       "https://www.endocrinologyadvisor.com/          846\n",
       "https://allmedx.com/                           745\n",
       "https://consumer.healthday.com/                725\n",
       "https://www.oncologynurseadvisor.com/          704\n",
       "https://www.hematologyadvisor.com/             653\n",
       "https://www.ophthalmologyadvisor.com/          428\n",
       "https://radrounds.com/                         130\n",
       "https://www.h2hdigitalrx.com/                   40\n",
       "https://www.epainassist.com/                    32\n",
       "https://radiopaedia.org/                        31\n",
       "https://www.optometryadvisor.com/               20\n",
       "https://www.fpnotebook.com/                     16\n",
       "https://epainassist.com/                        10\n",
       "https://uat.clinicalpainadvisor.com/             7\n",
       "https://uat.clinicaladvisor.com/                 1\n",
       "https://precisionmdapp.com/                      1\n",
       "Name: URLDOMAIN, dtype: int64"
      ]
     },
     "execution_count": 24,
     "metadata": {},
     "output_type": "execute_result"
    }
   ],
   "source": [
    "# Getting various unique values from URLDOMAIN column\n",
    "\n",
    "train_hcp['URLDOMAIN'].value_counts()"
   ]
  },
  {
   "cell_type": "code",
   "execution_count": 25,
   "id": "b3be79e2",
   "metadata": {
    "scrolled": true
   },
   "outputs": [
    {
     "data": {
      "text/plain": [
       "37"
      ]
     },
     "execution_count": 25,
     "metadata": {},
     "output_type": "execute_result"
    }
   ],
   "source": [
    "# Getting total number of unique entries from URLDOMAIN column\n",
    "\n",
    "train_hcp['URLDOMAIN'].nunique()"
   ]
  },
  {
   "cell_type": "markdown",
   "id": "934190fb",
   "metadata": {},
   "source": [
    "Inorder to reduce a large number of categoricalvalues from URL column, we extracted their domain and stored in a separate column"
   ]
  },
  {
   "cell_type": "code",
   "execution_count": 26,
   "id": "fd8fb959",
   "metadata": {
    "scrolled": false
   },
   "outputs": [
    {
     "data": {
      "text/html": [
       "<div>\n",
       "<style scoped>\n",
       "    .dataframe tbody tr th:only-of-type {\n",
       "        vertical-align: middle;\n",
       "    }\n",
       "\n",
       "    .dataframe tbody tr th {\n",
       "        vertical-align: top;\n",
       "    }\n",
       "\n",
       "    .dataframe thead th {\n",
       "        text-align: right;\n",
       "    }\n",
       "</style>\n",
       "<table border=\"1\" class=\"dataframe\">\n",
       "  <thead>\n",
       "    <tr style=\"text-align: right;\">\n",
       "      <th></th>\n",
       "      <th>DEVICE</th>\n",
       "      <th>CIDRBLOCK</th>\n",
       "      <th>PLATFORMTYPE</th>\n",
       "      <th>URLDOMAIN</th>\n",
       "      <th>IS_HCP</th>\n",
       "    </tr>\n",
       "  </thead>\n",
       "  <tbody>\n",
       "    <tr>\n",
       "      <th>0</th>\n",
       "      <td>Desktop</td>\n",
       "      <td>1</td>\n",
       "      <td>Online Medical Journal</td>\n",
       "      <td>https://www.cancertherapyadvisor.com/</td>\n",
       "      <td>0</td>\n",
       "    </tr>\n",
       "    <tr>\n",
       "      <th>1</th>\n",
       "      <td>Desktop</td>\n",
       "      <td>0</td>\n",
       "      <td>Online Medical Journal</td>\n",
       "      <td>https://www.cancertherapyadvisor.com/</td>\n",
       "      <td>0</td>\n",
       "    </tr>\n",
       "    <tr>\n",
       "      <th>2</th>\n",
       "      <td>Desktop</td>\n",
       "      <td>0</td>\n",
       "      <td>Online Medical Journal</td>\n",
       "      <td>https://www.cancertherapyadvisor.com/</td>\n",
       "      <td>0</td>\n",
       "    </tr>\n",
       "    <tr>\n",
       "      <th>3</th>\n",
       "      <td>Desktop</td>\n",
       "      <td>1</td>\n",
       "      <td>Online Medical Journal</td>\n",
       "      <td>https://globalrph.com/</td>\n",
       "      <td>1</td>\n",
       "    </tr>\n",
       "    <tr>\n",
       "      <th>4</th>\n",
       "      <td>Mobile</td>\n",
       "      <td>1</td>\n",
       "      <td>Online Medical Journal</td>\n",
       "      <td>https://www.cureus.com/</td>\n",
       "      <td>0</td>\n",
       "    </tr>\n",
       "  </tbody>\n",
       "</table>\n",
       "</div>"
      ],
      "text/plain": [
       "    DEVICE  CIDRBLOCK            PLATFORMTYPE  \\\n",
       "0  Desktop          1  Online Medical Journal   \n",
       "1  Desktop          0  Online Medical Journal   \n",
       "2  Desktop          0  Online Medical Journal   \n",
       "3  Desktop          1  Online Medical Journal   \n",
       "4   Mobile          1  Online Medical Journal   \n",
       "\n",
       "                               URLDOMAIN  IS_HCP  \n",
       "0  https://www.cancertherapyadvisor.com/       0  \n",
       "1  https://www.cancertherapyadvisor.com/       0  \n",
       "2  https://www.cancertherapyadvisor.com/       0  \n",
       "3                 https://globalrph.com/       1  \n",
       "4                https://www.cureus.com/       0  "
      ]
     },
     "execution_count": 26,
     "metadata": {},
     "output_type": "execute_result"
    }
   ],
   "source": [
    "# Dropping Redudant Columns\n",
    "\n",
    "train_hcp.drop(['PLATFORM_ID','URL','KEYWORDS'], axis=1, inplace=True)\n",
    "train_hcp.head()"
   ]
  },
  {
   "cell_type": "code",
   "execution_count": 27,
   "id": "0497409a",
   "metadata": {},
   "outputs": [],
   "source": [
    "# Encoding for Unique Values of PLATFORMTYPE\n",
    "\n",
    "PLATFORMTYPE = {\n",
    "    \"Electronic Health Record\" : 0,\n",
    "    \"Online Medical Journal\" : 1,\n",
    "    \"Online Learning Portal\" : 2,\n",
    "    \"Medical News Platform\" : 3,\n",
    "    \"Tele-medicine Platform\" : 4\n",
    "}\n",
    "max_pltype = 4"
   ]
  },
  {
   "cell_type": "code",
   "execution_count": 28,
   "id": "3a768d1e",
   "metadata": {},
   "outputs": [],
   "source": [
    "# Encoding for Unique Values of URLDOMAIN\n",
    "\n",
    "URLDOMAIN = {\n",
    "    \"https://www.h2hdigitalrx.com/\" : 0,\n",
    "    \"https://www.clinicaladvisor.com/\" : 1,\n",
    "    \"https://www.cancertherapyadvisor.com/\" : 2,\n",
    "    \"https://www.empr.com/\" : 3,\n",
    "    \"https://www.rheumatologyadvisor.com/\" : 4,\n",
    "    \"https://www.renalandurologynews.com/\" : 5,\n",
    "    \"https://www.gastroenterologyadvisor.com/\" : 6,\n",
    "    \"https://www.dermatologyadvisor.com/\" : 7,\n",
    "    \"https://www.neurologyadvisor.com/\" : 8,\n",
    "    \"https://www.psychiatryadvisor.com/\" : 9,\n",
    "    \"https://www.pulmonologyadvisor.com/\" : 10,\n",
    "    \"https://www.clinicalpainadvisor.com/\" : 11,\n",
    "    \"https://www.medicalbag.com/\" : 12,\n",
    "    \"https://www.rarediseaseadvisor.com/\" : 13,\n",
    "    \"https://www.thecardiologyadvisor.com/\" : 14,\n",
    "    \"https://www.infectiousdiseaseadvisor.com/\" : 15,\n",
    "    \"https://www.endocrinologyadvisor.com/\" : 16,\n",
    "    \"https://www.oncologynurseadvisor.com/\" : 17,\n",
    "    \"https://www.hematologyadvisor.com/\" : 18,\n",
    "    \"https://www.ophthalmologyadvisor.com/\" : 19,\n",
    "    \"https://www.optometryadvisor.com/\" : 20,\n",
    "    \"https://uat.clinicalpainadvisor.com/\" : 21,\n",
    "    \"https://uat.clinicaladvisor.com/\": 22,\n",
    "    \"https://globalrph.com/\" : 23,\n",
    "    \"https://allmedx.com/\" : 24,\n",
    "    \"https://fpnotebook.com/\" : 25,\n",
    "    \"https://www.fpnotebook.com/\" : 25,\n",
    "    \"https://www.goodrx.com/\" : 26,\n",
    "    \"https://www.cureus.com/\" : 27,\n",
    "    \"https://radrounds.com/\" : 28,\n",
    "    \"https://www.2minutemedicine.com/\" : 29,\n",
    "    \"https://www.grantsformedical.com/\" : 30,\n",
    "    \"https://radiopaedia.org/\" : 31,\n",
    "    \"https://consumer.healthday.com/\" : 32,\n",
    "    \"https://www.epainassist.com/\" : 33,\n",
    "    \"https://epainassist.com/\" : 33,\n",
    "    \"https://precisionmdapp.com/\" : 34\n",
    "}\n",
    "max_urldomain = 34"
   ]
  },
  {
   "cell_type": "code",
   "execution_count": 29,
   "id": "be89dd65",
   "metadata": {},
   "outputs": [],
   "source": [
    "# Method to Label Encode values from column PLATFORMTYPE\n",
    "\n",
    "def LabelEncodePlatformType(hcp_data):\n",
    "    global max_pltype\n",
    "    platform_type = []\n",
    "    for pltype in hcp_data:\n",
    "        if pltype in PLATFORMTYPE:\n",
    "            platform_type.append(PLATFORMTYPE[pltype])\n",
    "        else:\n",
    "            max_pltype += 1\n",
    "            PLATFORMTYPE[pltype] = max_pltype\n",
    "            platform_type.append(max_pltype)\n",
    "    return platform_type"
   ]
  },
  {
   "cell_type": "code",
   "execution_count": 30,
   "id": "1cc6e740",
   "metadata": {},
   "outputs": [],
   "source": [
    "# Method to Label Encode values from column URLDOMAIN\n",
    "\n",
    "def LabelEncodeUrlDomain(hcp_data):\n",
    "    global max_urldomain\n",
    "    url_domain = []\n",
    "    for url in hcp_data:\n",
    "        if url in URLDOMAIN:\n",
    "            url_domain.append(URLDOMAIN[url])\n",
    "        else:\n",
    "            max_urldomain += 1\n",
    "            URLDOMAIN[url] = max_urldomain\n",
    "            url_domain.append(max_urldomain)\n",
    "    return url_domain"
   ]
  },
  {
   "cell_type": "code",
   "execution_count": 31,
   "id": "4acac65f",
   "metadata": {},
   "outputs": [],
   "source": [
    "# Importing LabelEncoder for encoding DEVICE\n",
    "\n",
    "from sklearn.preprocessing import LabelEncoder"
   ]
  },
  {
   "cell_type": "code",
   "execution_count": 32,
   "id": "308743b1",
   "metadata": {
    "scrolled": true
   },
   "outputs": [
    {
     "data": {
      "text/html": [
       "<div>\n",
       "<style scoped>\n",
       "    .dataframe tbody tr th:only-of-type {\n",
       "        vertical-align: middle;\n",
       "    }\n",
       "\n",
       "    .dataframe tbody tr th {\n",
       "        vertical-align: top;\n",
       "    }\n",
       "\n",
       "    .dataframe thead th {\n",
       "        text-align: right;\n",
       "    }\n",
       "</style>\n",
       "<table border=\"1\" class=\"dataframe\">\n",
       "  <thead>\n",
       "    <tr style=\"text-align: right;\">\n",
       "      <th></th>\n",
       "      <th>DEVICE</th>\n",
       "      <th>CIDRBLOCK</th>\n",
       "      <th>PLATFORMTYPE</th>\n",
       "      <th>URLDOMAIN</th>\n",
       "      <th>IS_HCP</th>\n",
       "    </tr>\n",
       "  </thead>\n",
       "  <tbody>\n",
       "    <tr>\n",
       "      <th>0</th>\n",
       "      <td>0</td>\n",
       "      <td>1</td>\n",
       "      <td>1</td>\n",
       "      <td>2</td>\n",
       "      <td>0</td>\n",
       "    </tr>\n",
       "    <tr>\n",
       "      <th>1</th>\n",
       "      <td>0</td>\n",
       "      <td>0</td>\n",
       "      <td>1</td>\n",
       "      <td>2</td>\n",
       "      <td>0</td>\n",
       "    </tr>\n",
       "    <tr>\n",
       "      <th>2</th>\n",
       "      <td>0</td>\n",
       "      <td>0</td>\n",
       "      <td>1</td>\n",
       "      <td>2</td>\n",
       "      <td>0</td>\n",
       "    </tr>\n",
       "    <tr>\n",
       "      <th>3</th>\n",
       "      <td>0</td>\n",
       "      <td>1</td>\n",
       "      <td>1</td>\n",
       "      <td>23</td>\n",
       "      <td>1</td>\n",
       "    </tr>\n",
       "    <tr>\n",
       "      <th>4</th>\n",
       "      <td>1</td>\n",
       "      <td>1</td>\n",
       "      <td>1</td>\n",
       "      <td>27</td>\n",
       "      <td>0</td>\n",
       "    </tr>\n",
       "  </tbody>\n",
       "</table>\n",
       "</div>"
      ],
      "text/plain": [
       "   DEVICE  CIDRBLOCK  PLATFORMTYPE  URLDOMAIN  IS_HCP\n",
       "0       0          1             1          2       0\n",
       "1       0          0             1          2       0\n",
       "2       0          0             1          2       0\n",
       "3       0          1             1         23       1\n",
       "4       1          1             1         27       0"
      ]
     },
     "execution_count": 32,
     "metadata": {},
     "output_type": "execute_result"
    }
   ],
   "source": [
    "# Label Encoding DEVICE, PLATFORMTYPE, URLDOMAIN\n",
    "\n",
    "train_hcp['PLATFORMTYPE'] = LabelEncodePlatformType(train_hcp['PLATFORMTYPE'])\n",
    "train_hcp['URLDOMAIN'] = LabelEncodeUrlDomain(train_hcp['URLDOMAIN'])\n",
    "\n",
    "le_device = LabelEncoder()\n",
    "train_hcp['DEVICE'] = le_device.fit_transform(train_hcp['DEVICE'])\n",
    "\n",
    "train_hcp.head()"
   ]
  },
  {
   "cell_type": "markdown",
   "id": "3486b595",
   "metadata": {},
   "source": [
    "For a certain PLATFORM_ID, PLATFORMTYPE and URLDOMAIN were the same. So inorder to preserve the pattern, we did manual label encoding."
   ]
  },
  {
   "cell_type": "code",
   "execution_count": 33,
   "id": "439ef1d1",
   "metadata": {
    "scrolled": false
   },
   "outputs": [
    {
     "data": {
      "text/plain": [
       "<Axes: >"
      ]
     },
     "execution_count": 33,
     "metadata": {},
     "output_type": "execute_result"
    },
    {
     "data": {
      "image/png": "[encoded data removed]",
      "text/plain": [
       "<Figure size 640x480 with 2 Axes>"
      ]
     },
     "metadata": {},
     "output_type": "display_data"
    }
   ],
   "source": [
    "# Getting Correlations of Features and Target Variable\n",
    "\n",
    "sns.heatmap(train_hcp.corr(), cmap=\"GnBu\")"
   ]
  },
  {
   "cell_type": "markdown",
   "id": "6242ffe4",
   "metadata": {},
   "source": [
    "### Building Training and Validation Sets"
   ]
  },
  {
   "cell_type": "code",
   "execution_count": 34,
   "id": "efc07ed2",
   "metadata": {},
   "outputs": [],
   "source": [
    "# Separating Data into Features X and Target Y\n",
    "\n",
    "X = train_hcp.drop(['IS_HCP'], axis=1)\n",
    "Y = train_hcp['IS_HCP']"
   ]
  },
  {
   "cell_type": "code",
   "execution_count": 35,
   "id": "67129a90",
   "metadata": {},
   "outputs": [],
   "source": [
    "# Splitting data into training and validation sets for model building\n",
    "\n",
    "from sklearn.model_selection import train_test_split\n",
    "\n",
    "X_train, X_test, Y_train, Y_test = train_test_split(X, Y, test_size=0.3)"
   ]
  },
  {
   "cell_type": "markdown",
   "id": "160069d1",
   "metadata": {},
   "source": [
    "We divided our Training Data into 70% Train Data and 30% Validation Data for Model Building Phase."
   ]
  },
  {
   "cell_type": "markdown",
   "id": "e239f119",
   "metadata": {},
   "source": [
    "### Model Building"
   ]
  },
  {
   "cell_type": "code",
   "execution_count": 36,
   "id": "c479232a",
   "metadata": {},
   "outputs": [],
   "source": [
    "# Building Decision Tree Model, Model Training\n",
    "\n",
    "from sklearn.tree import DecisionTreeClassifier\n",
    "\n",
    "dt_clf = DecisionTreeClassifier()\n",
    "dt_clf.fit(X_train, Y_train)\n",
    "Y_pred_dt = dt_clf.predict(X_test)"
   ]
  },
  {
   "cell_type": "code",
   "execution_count": 37,
   "id": "d7f5bdab",
   "metadata": {
    "scrolled": true
   },
   "outputs": [
    {
     "data": {
      "text/plain": [
       "array([0, 0, 0, ..., 0, 0, 1])"
      ]
     },
     "execution_count": 37,
     "metadata": {},
     "output_type": "execute_result"
    }
   ],
   "source": [
    "# Transforming target predictions in desired format needed for evaluation\n",
    "\n",
    "Y_true = Y_test.values.astype(\"int\")\n",
    "Y_true"
   ]
  },
  {
   "cell_type": "code",
   "execution_count": 38,
   "id": "3e414c31",
   "metadata": {
    "scrolled": true
   },
   "outputs": [
    {
     "data": {
      "text/plain": [
       "array([0, 0, 0, ..., 0, 0, 1])"
      ]
     },
     "execution_count": 38,
     "metadata": {},
     "output_type": "execute_result"
    }
   ],
   "source": [
    "# Transforming target predictions in desired format needed for evaluation\n",
    "\n",
    "Y_pred_dt = Y_pred_dt.astype(\"int\")\n",
    "Y_pred_dt"
   ]
  },
  {
   "cell_type": "code",
   "execution_count": 39,
   "id": "0335a7eb",
   "metadata": {},
   "outputs": [],
   "source": [
    "# Building Random Forest Model\n",
    "\n",
    "from sklearn.ensemble import RandomForestClassifier\n",
    "\n",
    "rf_clf = RandomForestClassifier()\n",
    "rf_clf.fit(X_train, Y_train)\n",
    "Y_pred_rf = rf_clf.predict(X_test)\n",
    "\n",
    "Y_true = Y_test.values.astype(\"int\")\n",
    "Y_pred_rf = Y_pred_rf.astype(\"int\")"
   ]
  },
  {
   "cell_type": "markdown",
   "id": "0847b523",
   "metadata": {},
   "source": [
    "### Model Evaluation"
   ]
  },
  {
   "cell_type": "code",
   "execution_count": 40,
   "id": "ba2c8b7c",
   "metadata": {
    "scrolled": true
   },
   "outputs": [
    {
     "name": "stdout",
     "output_type": "stream",
     "text": [
      "Accuracy for Decision Tree Model:  0.7891811240162664\n"
     ]
    }
   ],
   "source": [
    "# Model Evaluation using Metric Accuracy, evaluating Decision Tree Model\n",
    "\n",
    "from sklearn.metrics import accuracy_score\n",
    "\n",
    "print(\"Accuracy for Decision Tree Model: \",accuracy_score(Y_true, Y_pred_dt))"
   ]
  },
  {
   "cell_type": "code",
   "execution_count": 41,
   "id": "66ce68a2",
   "metadata": {
    "scrolled": true
   },
   "outputs": [
    {
     "name": "stdout",
     "output_type": "stream",
     "text": [
      "Accuracy for Random Forest Model:  0.7892396360551184\n"
     ]
    }
   ],
   "source": [
    "# Evaluating accuracy of Random Forest Model\n",
    "\n",
    "print(\"Accuracy for Random Forest Model: \",accuracy_score(Y_true, Y_pred_rf))"
   ]
  },
  {
   "cell_type": "code",
   "execution_count": 42,
   "id": "a6cc0719",
   "metadata": {
    "scrolled": false
   },
   "outputs": [
    {
     "data": {
      "text/plain": [
       "<sklearn.metrics._plot.confusion_matrix.ConfusionMatrixDisplay at 0x15f3dc5fca0>"
      ]
     },
     "execution_count": 42,
     "metadata": {},
     "output_type": "execute_result"
    },
    {
     "data": {
      "image/png": "[encoded data removed]",
      "text/plain": [
       "<Figure size 640x480 with 2 Axes>"
      ]
     },
     "metadata": {},
     "output_type": "display_data"
    }
   ],
   "source": [
    "# Building Confusion Matrix of the Selected Model: Random Forest\n",
    "\n",
    "from sklearn.metrics import confusion_matrix, ConfusionMatrixDisplay\n",
    "\n",
    "cm = confusion_matrix(Y_true, Y_pred_rf,labels=rf_clf.classes_)\n",
    "display_cm = ConfusionMatrixDisplay(cm, display_labels=dt_clf.classes_)\n",
    "display_cm.plot(cmap='GnBu')"
   ]
  },
  {
   "cell_type": "markdown",
   "id": "2a28072f",
   "metadata": {},
   "source": [
    "By comparing the accuracies of both the models: Decision Tree and Random Forest, we can see that Random Forest Model has outperformed. <br>\n",
    "    Hence selecting Random Forest Model for further predictions on Test Data."
   ]
  },
  {
   "cell_type": "markdown",
   "id": "9270a8f9",
   "metadata": {},
   "source": [
    "### Importing Test Data"
   ]
  },
  {
   "cell_type": "code",
   "execution_count": 43,
   "id": "c153f326",
   "metadata": {
    "scrolled": false
   },
   "outputs": [
    {
     "data": {
      "text/html": [
       "<div>\n",
       "<style scoped>\n",
       "    .dataframe tbody tr th:only-of-type {\n",
       "        vertical-align: middle;\n",
       "    }\n",
       "\n",
       "    .dataframe tbody tr th {\n",
       "        vertical-align: top;\n",
       "    }\n",
       "\n",
       "    .dataframe thead th {\n",
       "        text-align: right;\n",
       "    }\n",
       "</style>\n",
       "<table border=\"1\" class=\"dataframe\">\n",
       "  <thead>\n",
       "    <tr style=\"text-align: right;\">\n",
       "      <th></th>\n",
       "      <th>ID</th>\n",
       "      <th>DEVICETYPE</th>\n",
       "      <th>PLATFORM_ID</th>\n",
       "      <th>BIDREQUESTIP</th>\n",
       "      <th>USERPLATFORMUID</th>\n",
       "      <th>USERCITY</th>\n",
       "      <th>USERZIPCODE</th>\n",
       "      <th>USERAGENT</th>\n",
       "      <th>PLATFORMTYPE</th>\n",
       "      <th>CHANNELTYPE</th>\n",
       "      <th>URL</th>\n",
       "      <th>KEYWORDS</th>\n",
       "    </tr>\n",
       "  </thead>\n",
       "  <tbody>\n",
       "    <tr>\n",
       "      <th>0</th>\n",
       "      <td>115501</td>\n",
       "      <td>Desktop</td>\n",
       "      <td>2</td>\n",
       "      <td>75.189.231.103</td>\n",
       "      <td>0d5041ff-f0b6-4d1a-9ad7-0a29f7d485b4</td>\n",
       "      <td>Fayetteville</td>\n",
       "      <td>28305.0</td>\n",
       "      <td>Mozilla/5.0 (Macintosh; Intel Mac OS X 10_11_6...</td>\n",
       "      <td>Online Medical Journal</td>\n",
       "      <td>Website</td>\n",
       "      <td>https://www.clinicaladvisor.com/home/features/...</td>\n",
       "      <td>Family Practice|Drainage|Clinical|Dermatology|...</td>\n",
       "    </tr>\n",
       "    <tr>\n",
       "      <th>1</th>\n",
       "      <td>115502</td>\n",
       "      <td>Mobile</td>\n",
       "      <td>2</td>\n",
       "      <td>24.101.33.158</td>\n",
       "      <td>c8396dd0-969f-4d99-a40b-b7bb1f516154</td>\n",
       "      <td>Conneaut Lake</td>\n",
       "      <td>16316.0</td>\n",
       "      <td>Mozilla/5.0 (iPhone; CPU iPhone OS 15_6_1 like...</td>\n",
       "      <td>Online Medical Journal</td>\n",
       "      <td>Website</td>\n",
       "      <td>https://www.ophthalmologyadvisor.com/topics/ca...</td>\n",
       "      <td>General|Clinical|Operative|Medicine|Cardiology...</td>\n",
       "    </tr>\n",
       "    <tr>\n",
       "      <th>2</th>\n",
       "      <td>115503</td>\n",
       "      <td>Desktop</td>\n",
       "      <td>2</td>\n",
       "      <td>172.118.216.142</td>\n",
       "      <td>3c97a081-6518-43f8-9f26-369759cfb471</td>\n",
       "      <td>Covina</td>\n",
       "      <td>91724.0</td>\n",
       "      <td>Mozilla/5.0 (Macintosh; Intel Mac OS X 10_15_7...</td>\n",
       "      <td>Online Medical Journal</td>\n",
       "      <td>Website</td>\n",
       "      <td>https://www.psychiatryadvisor.com/author/tori-...</td>\n",
       "      <td>Abortion|Anxiety Disorders|Apnea|False|Trauma|...</td>\n",
       "    </tr>\n",
       "    <tr>\n",
       "      <th>3</th>\n",
       "      <td>115504</td>\n",
       "      <td>Desktop</td>\n",
       "      <td>7</td>\n",
       "      <td>71.105.120.171</td>\n",
       "      <td>3e2578c8-f794-41af-a38c-c5cfb3c0f014</td>\n",
       "      <td>Brooklyn</td>\n",
       "      <td>11226.0</td>\n",
       "      <td>Mozilla/5.0 (Macintosh; Intel Mac OS X 10_15_7...</td>\n",
       "      <td>Online Medical Journal</td>\n",
       "      <td>Website</td>\n",
       "      <td>https://www.cureus.com/articles/105482-diverti...</td>\n",
       "      <td>Health|Male|Neurological Surgery|Otolaryngolog...</td>\n",
       "    </tr>\n",
       "    <tr>\n",
       "      <th>4</th>\n",
       "      <td>115505</td>\n",
       "      <td>Desktop</td>\n",
       "      <td>2</td>\n",
       "      <td>73.82.211.73</td>\n",
       "      <td>ec2ae7ce-6a8c-4156-98a7-07203e60f483</td>\n",
       "      <td>Marietta</td>\n",
       "      <td>30062.0</td>\n",
       "      <td>Mozilla/5.0 (Windows NT 10.0; Win64; x64) Appl...</td>\n",
       "      <td>Online Medical Journal</td>\n",
       "      <td>Website</td>\n",
       "      <td>https://www.renalandurologynews.com/home/confe...</td>\n",
       "      <td>chronic kidney disease|pain|nephrology|disease...</td>\n",
       "    </tr>\n",
       "  </tbody>\n",
       "</table>\n",
       "</div>"
      ],
      "text/plain": [
       "       ID DEVICETYPE  PLATFORM_ID     BIDREQUESTIP  \\\n",
       "0  115501    Desktop            2   75.189.231.103   \n",
       "1  115502     Mobile            2    24.101.33.158   \n",
       "2  115503    Desktop            2  172.118.216.142   \n",
       "3  115504    Desktop            7   71.105.120.171   \n",
       "4  115505    Desktop            2     73.82.211.73   \n",
       "\n",
       "                        USERPLATFORMUID       USERCITY  USERZIPCODE  \\\n",
       "0  0d5041ff-f0b6-4d1a-9ad7-0a29f7d485b4   Fayetteville      28305.0   \n",
       "1  c8396dd0-969f-4d99-a40b-b7bb1f516154  Conneaut Lake      16316.0   \n",
       "2  3c97a081-6518-43f8-9f26-369759cfb471         Covina      91724.0   \n",
       "3  3e2578c8-f794-41af-a38c-c5cfb3c0f014       Brooklyn      11226.0   \n",
       "4  ec2ae7ce-6a8c-4156-98a7-07203e60f483       Marietta      30062.0   \n",
       "\n",
       "                                           USERAGENT            PLATFORMTYPE  \\\n",
       "0  Mozilla/5.0 (Macintosh; Intel Mac OS X 10_11_6...  Online Medical Journal   \n",
       "1  Mozilla/5.0 (iPhone; CPU iPhone OS 15_6_1 like...  Online Medical Journal   \n",
       "2  Mozilla/5.0 (Macintosh; Intel Mac OS X 10_15_7...  Online Medical Journal   \n",
       "3  Mozilla/5.0 (Macintosh; Intel Mac OS X 10_15_7...  Online Medical Journal   \n",
       "4  Mozilla/5.0 (Windows NT 10.0; Win64; x64) Appl...  Online Medical Journal   \n",
       "\n",
       "  CHANNELTYPE                                                URL  \\\n",
       "0     Website  https://www.clinicaladvisor.com/home/features/...   \n",
       "1     Website  https://www.ophthalmologyadvisor.com/topics/ca...   \n",
       "2     Website  https://www.psychiatryadvisor.com/author/tori-...   \n",
       "3     Website  https://www.cureus.com/articles/105482-diverti...   \n",
       "4     Website  https://www.renalandurologynews.com/home/confe...   \n",
       "\n",
       "                                            KEYWORDS  \n",
       "0  Family Practice|Drainage|Clinical|Dermatology|...  \n",
       "1  General|Clinical|Operative|Medicine|Cardiology...  \n",
       "2  Abortion|Anxiety Disorders|Apnea|False|Trauma|...  \n",
       "3  Health|Male|Neurological Surgery|Otolaryngolog...  \n",
       "4  chronic kidney disease|pain|nephrology|disease...  "
      ]
     },
     "execution_count": 43,
     "metadata": {},
     "output_type": "execute_result"
    }
   ],
   "source": [
    "test_hcp = pd.read_csv(\"Doceree-HCP_Test.csv\", encoding=\"ISO-8859-1\")\n",
    "test_hcp.head()"
   ]
  },
  {
   "cell_type": "markdown",
   "id": "2deb224d",
   "metadata": {},
   "source": [
    "## Data Pre-processing"
   ]
  },
  {
   "cell_type": "code",
   "execution_count": 44,
   "id": "52b9c439",
   "metadata": {
    "scrolled": false
   },
   "outputs": [
    {
     "data": {
      "text/html": [
       "<div>\n",
       "<style scoped>\n",
       "    .dataframe tbody tr th:only-of-type {\n",
       "        vertical-align: middle;\n",
       "    }\n",
       "\n",
       "    .dataframe tbody tr th {\n",
       "        vertical-align: top;\n",
       "    }\n",
       "\n",
       "    .dataframe thead th {\n",
       "        text-align: right;\n",
       "    }\n",
       "</style>\n",
       "<table border=\"1\" class=\"dataframe\">\n",
       "  <thead>\n",
       "    <tr style=\"text-align: right;\">\n",
       "      <th></th>\n",
       "      <th>ID</th>\n",
       "      <th>DEVICETYPE</th>\n",
       "      <th>PLATFORM_ID</th>\n",
       "      <th>BIDREQUESTIP</th>\n",
       "      <th>USERPLATFORMUID</th>\n",
       "      <th>USERCITY</th>\n",
       "      <th>USERZIPCODE</th>\n",
       "      <th>USERAGENT</th>\n",
       "      <th>PLATFORMTYPE</th>\n",
       "      <th>CHANNELTYPE</th>\n",
       "      <th>URL</th>\n",
       "      <th>KEYWORDS</th>\n",
       "    </tr>\n",
       "  </thead>\n",
       "  <tbody>\n",
       "    <tr>\n",
       "      <th>24858</th>\n",
       "      <td>140359</td>\n",
       "      <td>Unknown</td>\n",
       "      <td>2</td>\n",
       "      <td>47.88.10.56</td>\n",
       "      <td>763f48e4-983f-4b36-ad82-fd03b457577f</td>\n",
       "      <td>San Mateo</td>\n",
       "      <td>94402.0</td>\n",
       "      <td>NaN</td>\n",
       "      <td>Online Medical Journal</td>\n",
       "      <td>Website</td>\n",
       "      <td>https://www.clinicaladvisor.com/home/meeting-c...</td>\n",
       "      <td>influenza|chronic kidney disease|pain|nephrolo...</td>\n",
       "    </tr>\n",
       "  </tbody>\n",
       "</table>\n",
       "</div>"
      ],
      "text/plain": [
       "           ID DEVICETYPE  PLATFORM_ID BIDREQUESTIP  \\\n",
       "24858  140359    Unknown            2  47.88.10.56   \n",
       "\n",
       "                            USERPLATFORMUID   USERCITY  USERZIPCODE USERAGENT  \\\n",
       "24858  763f48e4-983f-4b36-ad82-fd03b457577f  San Mateo      94402.0       NaN   \n",
       "\n",
       "                 PLATFORMTYPE CHANNELTYPE  \\\n",
       "24858  Online Medical Journal     Website   \n",
       "\n",
       "                                                     URL  \\\n",
       "24858  https://www.clinicaladvisor.com/home/meeting-c...   \n",
       "\n",
       "                                                KEYWORDS  \n",
       "24858  influenza|chronic kidney disease|pain|nephrolo...  "
      ]
     },
     "execution_count": 44,
     "metadata": {},
     "output_type": "execute_result"
    }
   ],
   "source": [
    "# Checking Null values for USERAGENT of Test Data\n",
    "\n",
    "test_hcp[test_hcp['USERAGENT'].isnull()]"
   ]
  },
  {
   "cell_type": "code",
   "execution_count": 45,
   "id": "1b82b582",
   "metadata": {
    "scrolled": true
   },
   "outputs": [
    {
     "data": {
      "text/html": [
       "<div>\n",
       "<style scoped>\n",
       "    .dataframe tbody tr th:only-of-type {\n",
       "        vertical-align: middle;\n",
       "    }\n",
       "\n",
       "    .dataframe tbody tr th {\n",
       "        vertical-align: top;\n",
       "    }\n",
       "\n",
       "    .dataframe thead th {\n",
       "        text-align: right;\n",
       "    }\n",
       "</style>\n",
       "<table border=\"1\" class=\"dataframe\">\n",
       "  <thead>\n",
       "    <tr style=\"text-align: right;\">\n",
       "      <th></th>\n",
       "      <th>DEVICE</th>\n",
       "      <th>CIDRBLOCK</th>\n",
       "      <th>PLATFORMTYPE</th>\n",
       "      <th>URLDOMAIN</th>\n",
       "    </tr>\n",
       "  </thead>\n",
       "  <tbody>\n",
       "    <tr>\n",
       "      <th>0</th>\n",
       "      <td>Desktop</td>\n",
       "      <td>0</td>\n",
       "      <td>Online Medical Journal</td>\n",
       "      <td>https://www.clinicaladvisor.com/</td>\n",
       "    </tr>\n",
       "    <tr>\n",
       "      <th>1</th>\n",
       "      <td>Mobile</td>\n",
       "      <td>0</td>\n",
       "      <td>Online Medical Journal</td>\n",
       "      <td>https://www.ophthalmologyadvisor.com/</td>\n",
       "    </tr>\n",
       "    <tr>\n",
       "      <th>2</th>\n",
       "      <td>Desktop</td>\n",
       "      <td>1</td>\n",
       "      <td>Online Medical Journal</td>\n",
       "      <td>https://www.psychiatryadvisor.com/</td>\n",
       "    </tr>\n",
       "    <tr>\n",
       "      <th>3</th>\n",
       "      <td>Desktop</td>\n",
       "      <td>0</td>\n",
       "      <td>Online Medical Journal</td>\n",
       "      <td>https://www.cureus.com/</td>\n",
       "    </tr>\n",
       "    <tr>\n",
       "      <th>4</th>\n",
       "      <td>Desktop</td>\n",
       "      <td>0</td>\n",
       "      <td>Online Medical Journal</td>\n",
       "      <td>https://www.renalandurologynews.com/</td>\n",
       "    </tr>\n",
       "  </tbody>\n",
       "</table>\n",
       "</div>"
      ],
      "text/plain": [
       "    DEVICE  CIDRBLOCK            PLATFORMTYPE  \\\n",
       "0  Desktop          0  Online Medical Journal   \n",
       "1   Mobile          0  Online Medical Journal   \n",
       "2  Desktop          1  Online Medical Journal   \n",
       "3  Desktop          0  Online Medical Journal   \n",
       "4  Desktop          0  Online Medical Journal   \n",
       "\n",
       "                               URLDOMAIN  \n",
       "0       https://www.clinicaladvisor.com/  \n",
       "1  https://www.ophthalmologyadvisor.com/  \n",
       "2     https://www.psychiatryadvisor.com/  \n",
       "3                https://www.cureus.com/  \n",
       "4   https://www.renalandurologynews.com/  "
      ]
     },
     "execution_count": 45,
     "metadata": {},
     "output_type": "execute_result"
    }
   ],
   "source": [
    "# Processing Test Data to transform into desired format like Train Data\n",
    "\n",
    "cidr_block = CIDR(test_hcp['BIDREQUESTIP'])\n",
    "test_hcp.insert(loc=3, column='CIDRBLOCK', value=cidr_block)\n",
    "\n",
    "test_id = test_hcp['ID']\n",
    "\n",
    "test_hcp.at[24858, 'USERAGENT'] ='NaN'\n",
    "device_values = caliberateDevice(test_hcp['USERAGENT'], test_hcp['DEVICETYPE'])\n",
    "test_hcp.insert(loc=0, column='DEVICE', value=device_values)\n",
    "\n",
    "test_hcp.drop(['ID', 'DEVICETYPE', 'BIDREQUESTIP', 'USERPLATFORMUID', 'USERCITY', 'USERZIPCODE', 'USERAGENT', 'CHANNELTYPE'], axis=1, inplace=True)\n",
    "\n",
    "url_domain = FindDomain(test_hcp['URL'])\n",
    "test_hcp.insert(loc=5, column='URLDOMAIN', value=url_domain)\n",
    "\n",
    "test_hcp.drop(['PLATFORM_ID','URL','KEYWORDS'], axis=1, inplace=True)\n",
    "test_hcp.head()"
   ]
  },
  {
   "cell_type": "code",
   "execution_count": 46,
   "id": "0fdadd63",
   "metadata": {},
   "outputs": [],
   "source": [
    "# Label Encoding PLATFORMTYPE for Test Data\n",
    "\n",
    "test_hcp['PLATFORMTYPE'] = LabelEncodePlatformType(test_hcp['PLATFORMTYPE'])"
   ]
  },
  {
   "cell_type": "code",
   "execution_count": 47,
   "id": "ec7ccbba",
   "metadata": {},
   "outputs": [],
   "source": [
    "# Label Encoding URLDOMAIN for Test Data\n",
    "\n",
    "test_hcp['URLDOMAIN'] = LabelEncodeUrlDomain(test_hcp['URLDOMAIN'])"
   ]
  },
  {
   "cell_type": "code",
   "execution_count": 48,
   "id": "16669282",
   "metadata": {
    "scrolled": true
   },
   "outputs": [
    {
     "data": {
      "text/html": [
       "<div>\n",
       "<style scoped>\n",
       "    .dataframe tbody tr th:only-of-type {\n",
       "        vertical-align: middle;\n",
       "    }\n",
       "\n",
       "    .dataframe tbody tr th {\n",
       "        vertical-align: top;\n",
       "    }\n",
       "\n",
       "    .dataframe thead th {\n",
       "        text-align: right;\n",
       "    }\n",
       "</style>\n",
       "<table border=\"1\" class=\"dataframe\">\n",
       "  <thead>\n",
       "    <tr style=\"text-align: right;\">\n",
       "      <th></th>\n",
       "      <th>DEVICE</th>\n",
       "      <th>CIDRBLOCK</th>\n",
       "      <th>PLATFORMTYPE</th>\n",
       "      <th>URLDOMAIN</th>\n",
       "    </tr>\n",
       "  </thead>\n",
       "  <tbody>\n",
       "    <tr>\n",
       "      <th>0</th>\n",
       "      <td>0</td>\n",
       "      <td>0</td>\n",
       "      <td>1</td>\n",
       "      <td>1</td>\n",
       "    </tr>\n",
       "    <tr>\n",
       "      <th>1</th>\n",
       "      <td>1</td>\n",
       "      <td>0</td>\n",
       "      <td>1</td>\n",
       "      <td>19</td>\n",
       "    </tr>\n",
       "    <tr>\n",
       "      <th>2</th>\n",
       "      <td>0</td>\n",
       "      <td>1</td>\n",
       "      <td>1</td>\n",
       "      <td>9</td>\n",
       "    </tr>\n",
       "    <tr>\n",
       "      <th>3</th>\n",
       "      <td>0</td>\n",
       "      <td>0</td>\n",
       "      <td>1</td>\n",
       "      <td>27</td>\n",
       "    </tr>\n",
       "    <tr>\n",
       "      <th>4</th>\n",
       "      <td>0</td>\n",
       "      <td>0</td>\n",
       "      <td>1</td>\n",
       "      <td>5</td>\n",
       "    </tr>\n",
       "  </tbody>\n",
       "</table>\n",
       "</div>"
      ],
      "text/plain": [
       "   DEVICE  CIDRBLOCK  PLATFORMTYPE  URLDOMAIN\n",
       "0       0          0             1          1\n",
       "1       1          0             1         19\n",
       "2       0          1             1          9\n",
       "3       0          0             1         27\n",
       "4       0          0             1          5"
      ]
     },
     "execution_count": 48,
     "metadata": {},
     "output_type": "execute_result"
    }
   ],
   "source": [
    "# Label Encoding DEVICE for Test Data\n",
    "\n",
    "test_hcp['DEVICE'] = le_device.transform(test_hcp['DEVICE'])\n",
    "test_hcp.head()"
   ]
  },
  {
   "cell_type": "markdown",
   "id": "03dea16f",
   "metadata": {},
   "source": [
    "### Generating Predictions"
   ]
  },
  {
   "cell_type": "code",
   "execution_count": 49,
   "id": "fc51a4b2",
   "metadata": {
    "scrolled": true
   },
   "outputs": [
    {
     "data": {
      "text/plain": [
       "array([0, 1, 0, ..., 0, 0, 1])"
      ]
     },
     "execution_count": 49,
     "metadata": {},
     "output_type": "execute_result"
    }
   ],
   "source": [
    "# Finding Predictions using Random Forest Model\n",
    "\n",
    "predictions = rf_clf.predict(test_hcp)\n",
    "predictions = predictions.astype(\"int\")\n",
    "predictions"
   ]
  },
  {
   "cell_type": "code",
   "execution_count": 50,
   "id": "e5b9c7de",
   "metadata": {},
   "outputs": [
    {
     "data": {
      "text/html": [
       "<div>\n",
       "<style scoped>\n",
       "    .dataframe tbody tr th:only-of-type {\n",
       "        vertical-align: middle;\n",
       "    }\n",
       "\n",
       "    .dataframe tbody tr th {\n",
       "        vertical-align: top;\n",
       "    }\n",
       "\n",
       "    .dataframe thead th {\n",
       "        text-align: right;\n",
       "    }\n",
       "</style>\n",
       "<table border=\"1\" class=\"dataframe\">\n",
       "  <thead>\n",
       "    <tr style=\"text-align: right;\">\n",
       "      <th></th>\n",
       "      <th>ID</th>\n",
       "      <th>IS_HCP</th>\n",
       "    </tr>\n",
       "  </thead>\n",
       "  <tbody>\n",
       "    <tr>\n",
       "      <th>0</th>\n",
       "      <td>115501</td>\n",
       "      <td>0</td>\n",
       "    </tr>\n",
       "    <tr>\n",
       "      <th>1</th>\n",
       "      <td>115502</td>\n",
       "      <td>1</td>\n",
       "    </tr>\n",
       "    <tr>\n",
       "      <th>2</th>\n",
       "      <td>115503</td>\n",
       "      <td>0</td>\n",
       "    </tr>\n",
       "    <tr>\n",
       "      <th>3</th>\n",
       "      <td>115504</td>\n",
       "      <td>0</td>\n",
       "    </tr>\n",
       "    <tr>\n",
       "      <th>4</th>\n",
       "      <td>115505</td>\n",
       "      <td>0</td>\n",
       "    </tr>\n",
       "  </tbody>\n",
       "</table>\n",
       "</div>"
      ],
      "text/plain": [
       "       ID  IS_HCP\n",
       "0  115501       0\n",
       "1  115502       1\n",
       "2  115503       0\n",
       "3  115504       0\n",
       "4  115505       0"
      ]
     },
     "execution_count": 50,
     "metadata": {},
     "output_type": "execute_result"
    }
   ],
   "source": [
    "# Creating DataFrame to store Predictions with their corresponding ID\n",
    "\n",
    "test_pred = pd.DataFrame(test_id, columns=['ID'])\n",
    "test_pred['IS_HCP'] = predictions\n",
    "test_pred.head()"
   ]
  },
  {
   "cell_type": "code",
   "execution_count": 51,
   "id": "f49b5534",
   "metadata": {},
   "outputs": [],
   "source": [
    "# Saving Predictions DataFrame into csv File\n",
    "\n",
    "test_pred.to_csv(\"Doceree-HCP_Submission.csv\", index=False)"
   ]
  }
 ],
 "metadata": {
  "kernelspec": {
   "display_name": "Python 3 (ipykernel)",
   "language": "python",
   "name": "python3"
  },
  "language_info": {
   "codemirror_mode": {
    "name": "ipython",
    "version": 3
   },
   "file_extension": ".py",
   "mimetype": "text/x-python",
   "name": "python",
   "nbconvert_exporter": "python",
   "pygments_lexer": "ipython3",
   "version": "3.10.9"
  }
 },
 "nbformat": 4,
 "nbformat_minor": 5
}
